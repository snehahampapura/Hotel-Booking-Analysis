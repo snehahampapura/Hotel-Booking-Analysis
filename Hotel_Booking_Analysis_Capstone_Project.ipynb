{
  "nbformat": 4,
  "nbformat_minor": 0,
  "metadata": {
    "colab": {
      "name": "Hotel Booking Analysis - Capstone Project.ipynb",
      "provenance": [],
      "collapsed_sections": [
        "8EMq0Dv4dLjU",
        "AOzNqg98C4IO",
        "34dBBXOTg2gd",
        "MFwsV5Pxid60",
        "nxlLmBTqEKWX",
        "O8oPQulDNNDj",
        "BiIu7VgbOccI",
        "KYYv0HRkE3CH",
        "woT8MuiQFbKG",
        "NeiQ4wWbFrA3",
        "v4dDlTLSISBm",
        "A9p7ftnGMO9k",
        "ult6lU-eO4bc",
        "oHt0YdkjP_QL",
        "u7koRmUPQ17w",
        "8n3nFWWdRQv8",
        "GO7-y5ZzTPOM",
        "9S5arOZcT_Rn",
        "gj570MEBUy5Y",
        "MOzeDPDcVMCb",
        "-hQi918UWU8y",
        "NS6gwvNGW0AH",
        "41kcOCGFYNJq",
        "lD42qkPkYgU3",
        "_wbBJvUgY58T",
        "MoA5h95NaJNr",
        "9k5YODpebEMv",
        "qkjoaibrA0ag",
        "WdXFNDVNbk5S",
        "ETTS8z3MbjnE"
      ],
      "include_colab_link": true
    },
    "kernelspec": {
      "name": "python3",
      "display_name": "Python 3"
    },
    "language_info": {
      "name": "python"
    }
  },
  "cells": [
    {
      "cell_type": "markdown",
      "metadata": {
        "id": "view-in-github",
        "colab_type": "text"
      },
      "source": [
        "<a href=\"https://colab.research.google.com/github/snehahampapura/Hotel-Booking-Analysis/blob/main/Hotel_Booking_Analysis_Capstone_Project.ipynb\" target=\"_parent\"><img src=\"https://colab.research.google.com/assets/colab-badge.svg\" alt=\"Open In Colab\"/></a>"
      ]
    },
    {
      "cell_type": "markdown",
      "metadata": {
        "id": "8EMq0Dv4dLjU"
      },
      "source": [
        "## <b> Have you ever wondered when the best time of year to book a hotel room is? Or the optimal length of stay in order to get the best daily rate? What if you wanted to predict whether or not a hotel was likely to receive a disproportionately high number of special requests? This hotel booking dataset can help you explore those questions!\n",
        "\n",
        "## <b>This data set contains booking information for a city hotel and a resort hotel, and includes information such as when the booking was made, length of stay, the number of adults, children, and/or babies, and the number of available parking spaces, among other things. All personally identifying information has been removed from the data. </b>\n",
        "\n",
        "## <b> Explore and analyze the data to discover important factors that govern the bookings. </b>"
      ]
    },
    {
      "cell_type": "markdown",
      "metadata": {
        "id": "4LDTnm4EfX70"
      },
      "source": [
        "##Importing the necessary libraries and reading the file"
      ]
    },
    {
      "cell_type": "code",
      "metadata": {
        "id": "iSCYOSvJa9_0"
      },
      "source": [
        "# Importing Libraries\n",
        "import pandas as pd\n",
        "import numpy as np\n",
        "import matplotlib.pyplot as plt\n",
        "import seaborn as sns\n",
        "# Importing Warings To Ignore the Warning\n",
        "import warnings\n",
        "from warnings import filterwarnings\n",
        "filterwarnings('ignore')"
      ],
      "execution_count": 1,
      "outputs": []
    },
    {
      "cell_type": "code",
      "metadata": {
        "id": "lLZBgcW1dYQU",
        "colab": {
          "base_uri": "https://localhost:8080/"
        },
        "outputId": "8e877dfa-549a-4ad2-c816-4d666d309c1a"
      },
      "source": [
        "from google.colab import drive\n",
        "drive.mount('/content/drive')"
      ],
      "execution_count": 2,
      "outputs": [
        {
          "output_type": "stream",
          "name": "stdout",
          "text": [
            "Mounted at /content/drive\n"
          ]
        }
      ]
    },
    {
      "cell_type": "code",
      "metadata": {
        "id": "LVPWOvFAdebA"
      },
      "source": [
        "#df = pd.read_csv('/content/drive/MyDrive/Colab Notebooks/Python/datasets/Hotel Bookings.csv')\n",
        "df = pd.read_csv('/content/drive/MyDrive/Data/Hotel Bookings.csv')    #Path for Sneha"
      ],
      "execution_count": 3,
      "outputs": []
    },
    {
      "cell_type": "markdown",
      "metadata": {
        "id": "LZeM7SMPdUTZ"
      },
      "source": [
        "##Data Exploration"
      ]
    },
    {
      "cell_type": "code",
      "metadata": {
        "colab": {
          "base_uri": "https://localhost:8080/",
          "height": 313
        },
        "id": "EcbdYy52do2i",
        "outputId": "eff5d1cf-4e5b-4201-83c3-4e851fc6681a"
      },
      "source": [
        "# First Look\n",
        "df.head() "
      ],
      "execution_count": 4,
      "outputs": [
        {
          "output_type": "execute_result",
          "data": {
            "text/html": [
              "<div>\n",
              "<style scoped>\n",
              "    .dataframe tbody tr th:only-of-type {\n",
              "        vertical-align: middle;\n",
              "    }\n",
              "\n",
              "    .dataframe tbody tr th {\n",
              "        vertical-align: top;\n",
              "    }\n",
              "\n",
              "    .dataframe thead th {\n",
              "        text-align: right;\n",
              "    }\n",
              "</style>\n",
              "<table border=\"1\" class=\"dataframe\">\n",
              "  <thead>\n",
              "    <tr style=\"text-align: right;\">\n",
              "      <th></th>\n",
              "      <th>hotel</th>\n",
              "      <th>is_canceled</th>\n",
              "      <th>lead_time</th>\n",
              "      <th>arrival_date_year</th>\n",
              "      <th>arrival_date_month</th>\n",
              "      <th>arrival_date_week_number</th>\n",
              "      <th>arrival_date_day_of_month</th>\n",
              "      <th>stays_in_weekend_nights</th>\n",
              "      <th>stays_in_week_nights</th>\n",
              "      <th>adults</th>\n",
              "      <th>children</th>\n",
              "      <th>babies</th>\n",
              "      <th>meal</th>\n",
              "      <th>country</th>\n",
              "      <th>market_segment</th>\n",
              "      <th>distribution_channel</th>\n",
              "      <th>is_repeated_guest</th>\n",
              "      <th>previous_cancellations</th>\n",
              "      <th>previous_bookings_not_canceled</th>\n",
              "      <th>reserved_room_type</th>\n",
              "      <th>assigned_room_type</th>\n",
              "      <th>booking_changes</th>\n",
              "      <th>deposit_type</th>\n",
              "      <th>agent</th>\n",
              "      <th>company</th>\n",
              "      <th>days_in_waiting_list</th>\n",
              "      <th>customer_type</th>\n",
              "      <th>adr</th>\n",
              "      <th>required_car_parking_spaces</th>\n",
              "      <th>total_of_special_requests</th>\n",
              "      <th>reservation_status</th>\n",
              "      <th>reservation_status_date</th>\n",
              "    </tr>\n",
              "  </thead>\n",
              "  <tbody>\n",
              "    <tr>\n",
              "      <th>0</th>\n",
              "      <td>Resort Hotel</td>\n",
              "      <td>0</td>\n",
              "      <td>342</td>\n",
              "      <td>2015</td>\n",
              "      <td>July</td>\n",
              "      <td>27</td>\n",
              "      <td>1</td>\n",
              "      <td>0</td>\n",
              "      <td>0</td>\n",
              "      <td>2</td>\n",
              "      <td>0.0</td>\n",
              "      <td>0</td>\n",
              "      <td>BB</td>\n",
              "      <td>PRT</td>\n",
              "      <td>Direct</td>\n",
              "      <td>Direct</td>\n",
              "      <td>0</td>\n",
              "      <td>0</td>\n",
              "      <td>0</td>\n",
              "      <td>C</td>\n",
              "      <td>C</td>\n",
              "      <td>3</td>\n",
              "      <td>No Deposit</td>\n",
              "      <td>NaN</td>\n",
              "      <td>NaN</td>\n",
              "      <td>0</td>\n",
              "      <td>Transient</td>\n",
              "      <td>0.0</td>\n",
              "      <td>0</td>\n",
              "      <td>0</td>\n",
              "      <td>Check-Out</td>\n",
              "      <td>2015-07-01</td>\n",
              "    </tr>\n",
              "    <tr>\n",
              "      <th>1</th>\n",
              "      <td>Resort Hotel</td>\n",
              "      <td>0</td>\n",
              "      <td>737</td>\n",
              "      <td>2015</td>\n",
              "      <td>July</td>\n",
              "      <td>27</td>\n",
              "      <td>1</td>\n",
              "      <td>0</td>\n",
              "      <td>0</td>\n",
              "      <td>2</td>\n",
              "      <td>0.0</td>\n",
              "      <td>0</td>\n",
              "      <td>BB</td>\n",
              "      <td>PRT</td>\n",
              "      <td>Direct</td>\n",
              "      <td>Direct</td>\n",
              "      <td>0</td>\n",
              "      <td>0</td>\n",
              "      <td>0</td>\n",
              "      <td>C</td>\n",
              "      <td>C</td>\n",
              "      <td>4</td>\n",
              "      <td>No Deposit</td>\n",
              "      <td>NaN</td>\n",
              "      <td>NaN</td>\n",
              "      <td>0</td>\n",
              "      <td>Transient</td>\n",
              "      <td>0.0</td>\n",
              "      <td>0</td>\n",
              "      <td>0</td>\n",
              "      <td>Check-Out</td>\n",
              "      <td>2015-07-01</td>\n",
              "    </tr>\n",
              "    <tr>\n",
              "      <th>2</th>\n",
              "      <td>Resort Hotel</td>\n",
              "      <td>0</td>\n",
              "      <td>7</td>\n",
              "      <td>2015</td>\n",
              "      <td>July</td>\n",
              "      <td>27</td>\n",
              "      <td>1</td>\n",
              "      <td>0</td>\n",
              "      <td>1</td>\n",
              "      <td>1</td>\n",
              "      <td>0.0</td>\n",
              "      <td>0</td>\n",
              "      <td>BB</td>\n",
              "      <td>GBR</td>\n",
              "      <td>Direct</td>\n",
              "      <td>Direct</td>\n",
              "      <td>0</td>\n",
              "      <td>0</td>\n",
              "      <td>0</td>\n",
              "      <td>A</td>\n",
              "      <td>C</td>\n",
              "      <td>0</td>\n",
              "      <td>No Deposit</td>\n",
              "      <td>NaN</td>\n",
              "      <td>NaN</td>\n",
              "      <td>0</td>\n",
              "      <td>Transient</td>\n",
              "      <td>75.0</td>\n",
              "      <td>0</td>\n",
              "      <td>0</td>\n",
              "      <td>Check-Out</td>\n",
              "      <td>2015-07-02</td>\n",
              "    </tr>\n",
              "    <tr>\n",
              "      <th>3</th>\n",
              "      <td>Resort Hotel</td>\n",
              "      <td>0</td>\n",
              "      <td>13</td>\n",
              "      <td>2015</td>\n",
              "      <td>July</td>\n",
              "      <td>27</td>\n",
              "      <td>1</td>\n",
              "      <td>0</td>\n",
              "      <td>1</td>\n",
              "      <td>1</td>\n",
              "      <td>0.0</td>\n",
              "      <td>0</td>\n",
              "      <td>BB</td>\n",
              "      <td>GBR</td>\n",
              "      <td>Corporate</td>\n",
              "      <td>Corporate</td>\n",
              "      <td>0</td>\n",
              "      <td>0</td>\n",
              "      <td>0</td>\n",
              "      <td>A</td>\n",
              "      <td>A</td>\n",
              "      <td>0</td>\n",
              "      <td>No Deposit</td>\n",
              "      <td>304.0</td>\n",
              "      <td>NaN</td>\n",
              "      <td>0</td>\n",
              "      <td>Transient</td>\n",
              "      <td>75.0</td>\n",
              "      <td>0</td>\n",
              "      <td>0</td>\n",
              "      <td>Check-Out</td>\n",
              "      <td>2015-07-02</td>\n",
              "    </tr>\n",
              "    <tr>\n",
              "      <th>4</th>\n",
              "      <td>Resort Hotel</td>\n",
              "      <td>0</td>\n",
              "      <td>14</td>\n",
              "      <td>2015</td>\n",
              "      <td>July</td>\n",
              "      <td>27</td>\n",
              "      <td>1</td>\n",
              "      <td>0</td>\n",
              "      <td>2</td>\n",
              "      <td>2</td>\n",
              "      <td>0.0</td>\n",
              "      <td>0</td>\n",
              "      <td>BB</td>\n",
              "      <td>GBR</td>\n",
              "      <td>Online TA</td>\n",
              "      <td>TA/TO</td>\n",
              "      <td>0</td>\n",
              "      <td>0</td>\n",
              "      <td>0</td>\n",
              "      <td>A</td>\n",
              "      <td>A</td>\n",
              "      <td>0</td>\n",
              "      <td>No Deposit</td>\n",
              "      <td>240.0</td>\n",
              "      <td>NaN</td>\n",
              "      <td>0</td>\n",
              "      <td>Transient</td>\n",
              "      <td>98.0</td>\n",
              "      <td>0</td>\n",
              "      <td>1</td>\n",
              "      <td>Check-Out</td>\n",
              "      <td>2015-07-03</td>\n",
              "    </tr>\n",
              "  </tbody>\n",
              "</table>\n",
              "</div>"
            ],
            "text/plain": [
              "          hotel  is_canceled  ...  reservation_status  reservation_status_date\n",
              "0  Resort Hotel            0  ...           Check-Out               2015-07-01\n",
              "1  Resort Hotel            0  ...           Check-Out               2015-07-01\n",
              "2  Resort Hotel            0  ...           Check-Out               2015-07-02\n",
              "3  Resort Hotel            0  ...           Check-Out               2015-07-02\n",
              "4  Resort Hotel            0  ...           Check-Out               2015-07-03\n",
              "\n",
              "[5 rows x 32 columns]"
            ]
          },
          "metadata": {},
          "execution_count": 4
        }
      ]
    },
    {
      "cell_type": "code",
      "metadata": {
        "colab": {
          "base_uri": "https://localhost:8080/",
          "height": 313
        },
        "id": "FGbewsrhATjm",
        "outputId": "ba1fd78c-fb11-4946-d7cf-37f7f2a75785"
      },
      "source": [
        "df.tail()"
      ],
      "execution_count": 5,
      "outputs": [
        {
          "output_type": "execute_result",
          "data": {
            "text/html": [
              "<div>\n",
              "<style scoped>\n",
              "    .dataframe tbody tr th:only-of-type {\n",
              "        vertical-align: middle;\n",
              "    }\n",
              "\n",
              "    .dataframe tbody tr th {\n",
              "        vertical-align: top;\n",
              "    }\n",
              "\n",
              "    .dataframe thead th {\n",
              "        text-align: right;\n",
              "    }\n",
              "</style>\n",
              "<table border=\"1\" class=\"dataframe\">\n",
              "  <thead>\n",
              "    <tr style=\"text-align: right;\">\n",
              "      <th></th>\n",
              "      <th>hotel</th>\n",
              "      <th>is_canceled</th>\n",
              "      <th>lead_time</th>\n",
              "      <th>arrival_date_year</th>\n",
              "      <th>arrival_date_month</th>\n",
              "      <th>arrival_date_week_number</th>\n",
              "      <th>arrival_date_day_of_month</th>\n",
              "      <th>stays_in_weekend_nights</th>\n",
              "      <th>stays_in_week_nights</th>\n",
              "      <th>adults</th>\n",
              "      <th>children</th>\n",
              "      <th>babies</th>\n",
              "      <th>meal</th>\n",
              "      <th>country</th>\n",
              "      <th>market_segment</th>\n",
              "      <th>distribution_channel</th>\n",
              "      <th>is_repeated_guest</th>\n",
              "      <th>previous_cancellations</th>\n",
              "      <th>previous_bookings_not_canceled</th>\n",
              "      <th>reserved_room_type</th>\n",
              "      <th>assigned_room_type</th>\n",
              "      <th>booking_changes</th>\n",
              "      <th>deposit_type</th>\n",
              "      <th>agent</th>\n",
              "      <th>company</th>\n",
              "      <th>days_in_waiting_list</th>\n",
              "      <th>customer_type</th>\n",
              "      <th>adr</th>\n",
              "      <th>required_car_parking_spaces</th>\n",
              "      <th>total_of_special_requests</th>\n",
              "      <th>reservation_status</th>\n",
              "      <th>reservation_status_date</th>\n",
              "    </tr>\n",
              "  </thead>\n",
              "  <tbody>\n",
              "    <tr>\n",
              "      <th>119385</th>\n",
              "      <td>City Hotel</td>\n",
              "      <td>0</td>\n",
              "      <td>23</td>\n",
              "      <td>2017</td>\n",
              "      <td>August</td>\n",
              "      <td>35</td>\n",
              "      <td>30</td>\n",
              "      <td>2</td>\n",
              "      <td>5</td>\n",
              "      <td>2</td>\n",
              "      <td>0.0</td>\n",
              "      <td>0</td>\n",
              "      <td>BB</td>\n",
              "      <td>BEL</td>\n",
              "      <td>Offline TA/TO</td>\n",
              "      <td>TA/TO</td>\n",
              "      <td>0</td>\n",
              "      <td>0</td>\n",
              "      <td>0</td>\n",
              "      <td>A</td>\n",
              "      <td>A</td>\n",
              "      <td>0</td>\n",
              "      <td>No Deposit</td>\n",
              "      <td>394.0</td>\n",
              "      <td>NaN</td>\n",
              "      <td>0</td>\n",
              "      <td>Transient</td>\n",
              "      <td>96.14</td>\n",
              "      <td>0</td>\n",
              "      <td>0</td>\n",
              "      <td>Check-Out</td>\n",
              "      <td>2017-09-06</td>\n",
              "    </tr>\n",
              "    <tr>\n",
              "      <th>119386</th>\n",
              "      <td>City Hotel</td>\n",
              "      <td>0</td>\n",
              "      <td>102</td>\n",
              "      <td>2017</td>\n",
              "      <td>August</td>\n",
              "      <td>35</td>\n",
              "      <td>31</td>\n",
              "      <td>2</td>\n",
              "      <td>5</td>\n",
              "      <td>3</td>\n",
              "      <td>0.0</td>\n",
              "      <td>0</td>\n",
              "      <td>BB</td>\n",
              "      <td>FRA</td>\n",
              "      <td>Online TA</td>\n",
              "      <td>TA/TO</td>\n",
              "      <td>0</td>\n",
              "      <td>0</td>\n",
              "      <td>0</td>\n",
              "      <td>E</td>\n",
              "      <td>E</td>\n",
              "      <td>0</td>\n",
              "      <td>No Deposit</td>\n",
              "      <td>9.0</td>\n",
              "      <td>NaN</td>\n",
              "      <td>0</td>\n",
              "      <td>Transient</td>\n",
              "      <td>225.43</td>\n",
              "      <td>0</td>\n",
              "      <td>2</td>\n",
              "      <td>Check-Out</td>\n",
              "      <td>2017-09-07</td>\n",
              "    </tr>\n",
              "    <tr>\n",
              "      <th>119387</th>\n",
              "      <td>City Hotel</td>\n",
              "      <td>0</td>\n",
              "      <td>34</td>\n",
              "      <td>2017</td>\n",
              "      <td>August</td>\n",
              "      <td>35</td>\n",
              "      <td>31</td>\n",
              "      <td>2</td>\n",
              "      <td>5</td>\n",
              "      <td>2</td>\n",
              "      <td>0.0</td>\n",
              "      <td>0</td>\n",
              "      <td>BB</td>\n",
              "      <td>DEU</td>\n",
              "      <td>Online TA</td>\n",
              "      <td>TA/TO</td>\n",
              "      <td>0</td>\n",
              "      <td>0</td>\n",
              "      <td>0</td>\n",
              "      <td>D</td>\n",
              "      <td>D</td>\n",
              "      <td>0</td>\n",
              "      <td>No Deposit</td>\n",
              "      <td>9.0</td>\n",
              "      <td>NaN</td>\n",
              "      <td>0</td>\n",
              "      <td>Transient</td>\n",
              "      <td>157.71</td>\n",
              "      <td>0</td>\n",
              "      <td>4</td>\n",
              "      <td>Check-Out</td>\n",
              "      <td>2017-09-07</td>\n",
              "    </tr>\n",
              "    <tr>\n",
              "      <th>119388</th>\n",
              "      <td>City Hotel</td>\n",
              "      <td>0</td>\n",
              "      <td>109</td>\n",
              "      <td>2017</td>\n",
              "      <td>August</td>\n",
              "      <td>35</td>\n",
              "      <td>31</td>\n",
              "      <td>2</td>\n",
              "      <td>5</td>\n",
              "      <td>2</td>\n",
              "      <td>0.0</td>\n",
              "      <td>0</td>\n",
              "      <td>BB</td>\n",
              "      <td>GBR</td>\n",
              "      <td>Online TA</td>\n",
              "      <td>TA/TO</td>\n",
              "      <td>0</td>\n",
              "      <td>0</td>\n",
              "      <td>0</td>\n",
              "      <td>A</td>\n",
              "      <td>A</td>\n",
              "      <td>0</td>\n",
              "      <td>No Deposit</td>\n",
              "      <td>89.0</td>\n",
              "      <td>NaN</td>\n",
              "      <td>0</td>\n",
              "      <td>Transient</td>\n",
              "      <td>104.40</td>\n",
              "      <td>0</td>\n",
              "      <td>0</td>\n",
              "      <td>Check-Out</td>\n",
              "      <td>2017-09-07</td>\n",
              "    </tr>\n",
              "    <tr>\n",
              "      <th>119389</th>\n",
              "      <td>City Hotel</td>\n",
              "      <td>0</td>\n",
              "      <td>205</td>\n",
              "      <td>2017</td>\n",
              "      <td>August</td>\n",
              "      <td>35</td>\n",
              "      <td>29</td>\n",
              "      <td>2</td>\n",
              "      <td>7</td>\n",
              "      <td>2</td>\n",
              "      <td>0.0</td>\n",
              "      <td>0</td>\n",
              "      <td>HB</td>\n",
              "      <td>DEU</td>\n",
              "      <td>Online TA</td>\n",
              "      <td>TA/TO</td>\n",
              "      <td>0</td>\n",
              "      <td>0</td>\n",
              "      <td>0</td>\n",
              "      <td>A</td>\n",
              "      <td>A</td>\n",
              "      <td>0</td>\n",
              "      <td>No Deposit</td>\n",
              "      <td>9.0</td>\n",
              "      <td>NaN</td>\n",
              "      <td>0</td>\n",
              "      <td>Transient</td>\n",
              "      <td>151.20</td>\n",
              "      <td>0</td>\n",
              "      <td>2</td>\n",
              "      <td>Check-Out</td>\n",
              "      <td>2017-09-07</td>\n",
              "    </tr>\n",
              "  </tbody>\n",
              "</table>\n",
              "</div>"
            ],
            "text/plain": [
              "             hotel  is_canceled  ...  reservation_status  reservation_status_date\n",
              "119385  City Hotel            0  ...           Check-Out               2017-09-06\n",
              "119386  City Hotel            0  ...           Check-Out               2017-09-07\n",
              "119387  City Hotel            0  ...           Check-Out               2017-09-07\n",
              "119388  City Hotel            0  ...           Check-Out               2017-09-07\n",
              "119389  City Hotel            0  ...           Check-Out               2017-09-07\n",
              "\n",
              "[5 rows x 32 columns]"
            ]
          },
          "metadata": {},
          "execution_count": 5
        }
      ]
    },
    {
      "cell_type": "code",
      "metadata": {
        "colab": {
          "base_uri": "https://localhost:8080/"
        },
        "id": "SL5zIKNNd5L-",
        "outputId": "f6940da8-e18f-488f-d168-6aecbd8f6f0a"
      },
      "source": [
        "#familiarise with the columns in the dataset and their data types\n",
        "df.info()"
      ],
      "execution_count": 6,
      "outputs": [
        {
          "output_type": "stream",
          "name": "stdout",
          "text": [
            "<class 'pandas.core.frame.DataFrame'>\n",
            "RangeIndex: 119390 entries, 0 to 119389\n",
            "Data columns (total 32 columns):\n",
            " #   Column                          Non-Null Count   Dtype  \n",
            "---  ------                          --------------   -----  \n",
            " 0   hotel                           119390 non-null  object \n",
            " 1   is_canceled                     119390 non-null  int64  \n",
            " 2   lead_time                       119390 non-null  int64  \n",
            " 3   arrival_date_year               119390 non-null  int64  \n",
            " 4   arrival_date_month              119390 non-null  object \n",
            " 5   arrival_date_week_number        119390 non-null  int64  \n",
            " 6   arrival_date_day_of_month       119390 non-null  int64  \n",
            " 7   stays_in_weekend_nights         119390 non-null  int64  \n",
            " 8   stays_in_week_nights            119390 non-null  int64  \n",
            " 9   adults                          119390 non-null  int64  \n",
            " 10  children                        119386 non-null  float64\n",
            " 11  babies                          119390 non-null  int64  \n",
            " 12  meal                            119390 non-null  object \n",
            " 13  country                         118902 non-null  object \n",
            " 14  market_segment                  119390 non-null  object \n",
            " 15  distribution_channel            119390 non-null  object \n",
            " 16  is_repeated_guest               119390 non-null  int64  \n",
            " 17  previous_cancellations          119390 non-null  int64  \n",
            " 18  previous_bookings_not_canceled  119390 non-null  int64  \n",
            " 19  reserved_room_type              119390 non-null  object \n",
            " 20  assigned_room_type              119390 non-null  object \n",
            " 21  booking_changes                 119390 non-null  int64  \n",
            " 22  deposit_type                    119390 non-null  object \n",
            " 23  agent                           103050 non-null  float64\n",
            " 24  company                         6797 non-null    float64\n",
            " 25  days_in_waiting_list            119390 non-null  int64  \n",
            " 26  customer_type                   119390 non-null  object \n",
            " 27  adr                             119390 non-null  float64\n",
            " 28  required_car_parking_spaces     119390 non-null  int64  \n",
            " 29  total_of_special_requests       119390 non-null  int64  \n",
            " 30  reservation_status              119390 non-null  object \n",
            " 31  reservation_status_date         119390 non-null  object \n",
            "dtypes: float64(4), int64(16), object(12)\n",
            "memory usage: 29.1+ MB\n"
          ]
        }
      ]
    },
    {
      "cell_type": "code",
      "metadata": {
        "colab": {
          "base_uri": "https://localhost:8080/",
          "height": 320
        },
        "id": "QlGF9jqVAiSS",
        "outputId": "843a322e-cf56-46ef-c7e2-f3419b8a4631"
      },
      "source": [
        "df.describe()"
      ],
      "execution_count": 7,
      "outputs": [
        {
          "output_type": "execute_result",
          "data": {
            "text/html": [
              "<div>\n",
              "<style scoped>\n",
              "    .dataframe tbody tr th:only-of-type {\n",
              "        vertical-align: middle;\n",
              "    }\n",
              "\n",
              "    .dataframe tbody tr th {\n",
              "        vertical-align: top;\n",
              "    }\n",
              "\n",
              "    .dataframe thead th {\n",
              "        text-align: right;\n",
              "    }\n",
              "</style>\n",
              "<table border=\"1\" class=\"dataframe\">\n",
              "  <thead>\n",
              "    <tr style=\"text-align: right;\">\n",
              "      <th></th>\n",
              "      <th>is_canceled</th>\n",
              "      <th>lead_time</th>\n",
              "      <th>arrival_date_year</th>\n",
              "      <th>arrival_date_week_number</th>\n",
              "      <th>arrival_date_day_of_month</th>\n",
              "      <th>stays_in_weekend_nights</th>\n",
              "      <th>stays_in_week_nights</th>\n",
              "      <th>adults</th>\n",
              "      <th>children</th>\n",
              "      <th>babies</th>\n",
              "      <th>is_repeated_guest</th>\n",
              "      <th>previous_cancellations</th>\n",
              "      <th>previous_bookings_not_canceled</th>\n",
              "      <th>booking_changes</th>\n",
              "      <th>agent</th>\n",
              "      <th>company</th>\n",
              "      <th>days_in_waiting_list</th>\n",
              "      <th>adr</th>\n",
              "      <th>required_car_parking_spaces</th>\n",
              "      <th>total_of_special_requests</th>\n",
              "    </tr>\n",
              "  </thead>\n",
              "  <tbody>\n",
              "    <tr>\n",
              "      <th>count</th>\n",
              "      <td>119390.000000</td>\n",
              "      <td>119390.000000</td>\n",
              "      <td>119390.000000</td>\n",
              "      <td>119390.000000</td>\n",
              "      <td>119390.000000</td>\n",
              "      <td>119390.000000</td>\n",
              "      <td>119390.000000</td>\n",
              "      <td>119390.000000</td>\n",
              "      <td>119386.000000</td>\n",
              "      <td>119390.000000</td>\n",
              "      <td>119390.000000</td>\n",
              "      <td>119390.000000</td>\n",
              "      <td>119390.000000</td>\n",
              "      <td>119390.000000</td>\n",
              "      <td>103050.000000</td>\n",
              "      <td>6797.000000</td>\n",
              "      <td>119390.000000</td>\n",
              "      <td>119390.000000</td>\n",
              "      <td>119390.000000</td>\n",
              "      <td>119390.000000</td>\n",
              "    </tr>\n",
              "    <tr>\n",
              "      <th>mean</th>\n",
              "      <td>0.370416</td>\n",
              "      <td>104.011416</td>\n",
              "      <td>2016.156554</td>\n",
              "      <td>27.165173</td>\n",
              "      <td>15.798241</td>\n",
              "      <td>0.927599</td>\n",
              "      <td>2.500302</td>\n",
              "      <td>1.856403</td>\n",
              "      <td>0.103890</td>\n",
              "      <td>0.007949</td>\n",
              "      <td>0.031912</td>\n",
              "      <td>0.087118</td>\n",
              "      <td>0.137097</td>\n",
              "      <td>0.221124</td>\n",
              "      <td>86.693382</td>\n",
              "      <td>189.266735</td>\n",
              "      <td>2.321149</td>\n",
              "      <td>101.831122</td>\n",
              "      <td>0.062518</td>\n",
              "      <td>0.571363</td>\n",
              "    </tr>\n",
              "    <tr>\n",
              "      <th>std</th>\n",
              "      <td>0.482918</td>\n",
              "      <td>106.863097</td>\n",
              "      <td>0.707476</td>\n",
              "      <td>13.605138</td>\n",
              "      <td>8.780829</td>\n",
              "      <td>0.998613</td>\n",
              "      <td>1.908286</td>\n",
              "      <td>0.579261</td>\n",
              "      <td>0.398561</td>\n",
              "      <td>0.097436</td>\n",
              "      <td>0.175767</td>\n",
              "      <td>0.844336</td>\n",
              "      <td>1.497437</td>\n",
              "      <td>0.652306</td>\n",
              "      <td>110.774548</td>\n",
              "      <td>131.655015</td>\n",
              "      <td>17.594721</td>\n",
              "      <td>50.535790</td>\n",
              "      <td>0.245291</td>\n",
              "      <td>0.792798</td>\n",
              "    </tr>\n",
              "    <tr>\n",
              "      <th>min</th>\n",
              "      <td>0.000000</td>\n",
              "      <td>0.000000</td>\n",
              "      <td>2015.000000</td>\n",
              "      <td>1.000000</td>\n",
              "      <td>1.000000</td>\n",
              "      <td>0.000000</td>\n",
              "      <td>0.000000</td>\n",
              "      <td>0.000000</td>\n",
              "      <td>0.000000</td>\n",
              "      <td>0.000000</td>\n",
              "      <td>0.000000</td>\n",
              "      <td>0.000000</td>\n",
              "      <td>0.000000</td>\n",
              "      <td>0.000000</td>\n",
              "      <td>1.000000</td>\n",
              "      <td>6.000000</td>\n",
              "      <td>0.000000</td>\n",
              "      <td>-6.380000</td>\n",
              "      <td>0.000000</td>\n",
              "      <td>0.000000</td>\n",
              "    </tr>\n",
              "    <tr>\n",
              "      <th>25%</th>\n",
              "      <td>0.000000</td>\n",
              "      <td>18.000000</td>\n",
              "      <td>2016.000000</td>\n",
              "      <td>16.000000</td>\n",
              "      <td>8.000000</td>\n",
              "      <td>0.000000</td>\n",
              "      <td>1.000000</td>\n",
              "      <td>2.000000</td>\n",
              "      <td>0.000000</td>\n",
              "      <td>0.000000</td>\n",
              "      <td>0.000000</td>\n",
              "      <td>0.000000</td>\n",
              "      <td>0.000000</td>\n",
              "      <td>0.000000</td>\n",
              "      <td>9.000000</td>\n",
              "      <td>62.000000</td>\n",
              "      <td>0.000000</td>\n",
              "      <td>69.290000</td>\n",
              "      <td>0.000000</td>\n",
              "      <td>0.000000</td>\n",
              "    </tr>\n",
              "    <tr>\n",
              "      <th>50%</th>\n",
              "      <td>0.000000</td>\n",
              "      <td>69.000000</td>\n",
              "      <td>2016.000000</td>\n",
              "      <td>28.000000</td>\n",
              "      <td>16.000000</td>\n",
              "      <td>1.000000</td>\n",
              "      <td>2.000000</td>\n",
              "      <td>2.000000</td>\n",
              "      <td>0.000000</td>\n",
              "      <td>0.000000</td>\n",
              "      <td>0.000000</td>\n",
              "      <td>0.000000</td>\n",
              "      <td>0.000000</td>\n",
              "      <td>0.000000</td>\n",
              "      <td>14.000000</td>\n",
              "      <td>179.000000</td>\n",
              "      <td>0.000000</td>\n",
              "      <td>94.575000</td>\n",
              "      <td>0.000000</td>\n",
              "      <td>0.000000</td>\n",
              "    </tr>\n",
              "    <tr>\n",
              "      <th>75%</th>\n",
              "      <td>1.000000</td>\n",
              "      <td>160.000000</td>\n",
              "      <td>2017.000000</td>\n",
              "      <td>38.000000</td>\n",
              "      <td>23.000000</td>\n",
              "      <td>2.000000</td>\n",
              "      <td>3.000000</td>\n",
              "      <td>2.000000</td>\n",
              "      <td>0.000000</td>\n",
              "      <td>0.000000</td>\n",
              "      <td>0.000000</td>\n",
              "      <td>0.000000</td>\n",
              "      <td>0.000000</td>\n",
              "      <td>0.000000</td>\n",
              "      <td>229.000000</td>\n",
              "      <td>270.000000</td>\n",
              "      <td>0.000000</td>\n",
              "      <td>126.000000</td>\n",
              "      <td>0.000000</td>\n",
              "      <td>1.000000</td>\n",
              "    </tr>\n",
              "    <tr>\n",
              "      <th>max</th>\n",
              "      <td>1.000000</td>\n",
              "      <td>737.000000</td>\n",
              "      <td>2017.000000</td>\n",
              "      <td>53.000000</td>\n",
              "      <td>31.000000</td>\n",
              "      <td>19.000000</td>\n",
              "      <td>50.000000</td>\n",
              "      <td>55.000000</td>\n",
              "      <td>10.000000</td>\n",
              "      <td>10.000000</td>\n",
              "      <td>1.000000</td>\n",
              "      <td>26.000000</td>\n",
              "      <td>72.000000</td>\n",
              "      <td>21.000000</td>\n",
              "      <td>535.000000</td>\n",
              "      <td>543.000000</td>\n",
              "      <td>391.000000</td>\n",
              "      <td>5400.000000</td>\n",
              "      <td>8.000000</td>\n",
              "      <td>5.000000</td>\n",
              "    </tr>\n",
              "  </tbody>\n",
              "</table>\n",
              "</div>"
            ],
            "text/plain": [
              "         is_canceled  ...  total_of_special_requests\n",
              "count  119390.000000  ...              119390.000000\n",
              "mean        0.370416  ...                   0.571363\n",
              "std         0.482918  ...                   0.792798\n",
              "min         0.000000  ...                   0.000000\n",
              "25%         0.000000  ...                   0.000000\n",
              "50%         0.000000  ...                   0.000000\n",
              "75%         1.000000  ...                   1.000000\n",
              "max         1.000000  ...                   5.000000\n",
              "\n",
              "[8 rows x 20 columns]"
            ]
          },
          "metadata": {},
          "execution_count": 7
        }
      ]
    },
    {
      "cell_type": "code",
      "metadata": {
        "colab": {
          "base_uri": "https://localhost:8080/"
        },
        "id": "UlEbRqpsd6nv",
        "outputId": "bccb978d-14b1-4d6e-8c7e-0c63e9655b4a"
      },
      "source": [
        "#Checking the percentage of null values present in the dataset\n",
        "df.isnull().sum()/len(df.index)*100"
      ],
      "execution_count": 8,
      "outputs": [
        {
          "output_type": "execute_result",
          "data": {
            "text/plain": [
              "hotel                              0.000000\n",
              "is_canceled                        0.000000\n",
              "lead_time                          0.000000\n",
              "arrival_date_year                  0.000000\n",
              "arrival_date_month                 0.000000\n",
              "arrival_date_week_number           0.000000\n",
              "arrival_date_day_of_month          0.000000\n",
              "stays_in_weekend_nights            0.000000\n",
              "stays_in_week_nights               0.000000\n",
              "adults                             0.000000\n",
              "children                           0.003350\n",
              "babies                             0.000000\n",
              "meal                               0.000000\n",
              "country                            0.408744\n",
              "market_segment                     0.000000\n",
              "distribution_channel               0.000000\n",
              "is_repeated_guest                  0.000000\n",
              "previous_cancellations             0.000000\n",
              "previous_bookings_not_canceled     0.000000\n",
              "reserved_room_type                 0.000000\n",
              "assigned_room_type                 0.000000\n",
              "booking_changes                    0.000000\n",
              "deposit_type                       0.000000\n",
              "agent                             13.686238\n",
              "company                           94.306893\n",
              "days_in_waiting_list               0.000000\n",
              "customer_type                      0.000000\n",
              "adr                                0.000000\n",
              "required_car_parking_spaces        0.000000\n",
              "total_of_special_requests          0.000000\n",
              "reservation_status                 0.000000\n",
              "reservation_status_date            0.000000\n",
              "dtype: float64"
            ]
          },
          "metadata": {},
          "execution_count": 8
        }
      ]
    },
    {
      "cell_type": "markdown",
      "metadata": {
        "id": "AOzNqg98C4IO"
      },
      "source": [
        "####we see that there are 119390 records out of which columns agent and company has the most missing values."
      ]
    },
    {
      "cell_type": "markdown",
      "metadata": {
        "id": "34dBBXOTg2gd"
      },
      "source": [
        "##Data Cleaning"
      ]
    },
    {
      "cell_type": "code",
      "metadata": {
        "id": "lga5iDc1iQlt",
        "colab": {
          "base_uri": "https://localhost:8080/"
        },
        "outputId": "da00d6b1-d227-4812-fbfa-4a320bc61e8b"
      },
      "source": [
        "# Finding Any Null Value Present in the data set\n",
        "df.isnull().values.any()"
      ],
      "execution_count": 9,
      "outputs": [
        {
          "output_type": "execute_result",
          "data": {
            "text/plain": [
              "True"
            ]
          },
          "metadata": {},
          "execution_count": 9
        }
      ]
    },
    {
      "cell_type": "code",
      "metadata": {
        "id": "NBx-6appiW5U",
        "colab": {
          "base_uri": "https://localhost:8080/"
        },
        "outputId": "3cf04360-d6f3-4fec-f679-3db09933ee13"
      },
      "source": [
        "# Total Number Of Count Of Null Values Present In The Respective Columns\n",
        "df.isnull().sum()"
      ],
      "execution_count": 10,
      "outputs": [
        {
          "output_type": "execute_result",
          "data": {
            "text/plain": [
              "hotel                                  0\n",
              "is_canceled                            0\n",
              "lead_time                              0\n",
              "arrival_date_year                      0\n",
              "arrival_date_month                     0\n",
              "arrival_date_week_number               0\n",
              "arrival_date_day_of_month              0\n",
              "stays_in_weekend_nights                0\n",
              "stays_in_week_nights                   0\n",
              "adults                                 0\n",
              "children                               4\n",
              "babies                                 0\n",
              "meal                                   0\n",
              "country                              488\n",
              "market_segment                         0\n",
              "distribution_channel                   0\n",
              "is_repeated_guest                      0\n",
              "previous_cancellations                 0\n",
              "previous_bookings_not_canceled         0\n",
              "reserved_room_type                     0\n",
              "assigned_room_type                     0\n",
              "booking_changes                        0\n",
              "deposit_type                           0\n",
              "agent                              16340\n",
              "company                           112593\n",
              "days_in_waiting_list                   0\n",
              "customer_type                          0\n",
              "adr                                    0\n",
              "required_car_parking_spaces            0\n",
              "total_of_special_requests              0\n",
              "reservation_status                     0\n",
              "reservation_status_date                0\n",
              "dtype: int64"
            ]
          },
          "metadata": {},
          "execution_count": 10
        }
      ]
    },
    {
      "cell_type": "markdown",
      "metadata": {
        "id": "MFwsV5Pxid60"
      },
      "source": [
        "#### Conclusion -->\n",
        "        From The Above Observations We Find Some Null Values In The Data are AS Follows\n",
        "        1. Children -> 4\n",
        "        2. Country  -> 488\n",
        "        3. Agent    -> 16340\n",
        "        4. Company  -> 112593"
      ]
    },
    {
      "cell_type": "markdown",
      "metadata": {
        "id": "nxlLmBTqEKWX"
      },
      "source": [
        "####After our first look at the dataset, since agent and company columns has the most number of missing values, lets not consider these columns in our analysis. So lets go and drop these columns."
      ]
    },
    {
      "cell_type": "code",
      "metadata": {
        "id": "BMycqttODzwZ"
      },
      "source": [
        "df.drop(['agent','company'],axis=1,inplace=True)"
      ],
      "execution_count": 11,
      "outputs": []
    },
    {
      "cell_type": "code",
      "metadata": {
        "colab": {
          "base_uri": "https://localhost:8080/",
          "height": 0
        },
        "id": "JzBhm1zy9PDO",
        "outputId": "02a01f1e-7a61-4dad-f127-2a6f4cbcce84"
      },
      "source": [
        "df.head()"
      ],
      "execution_count": 12,
      "outputs": [
        {
          "output_type": "execute_result",
          "data": {
            "text/html": [
              "<div>\n",
              "<style scoped>\n",
              "    .dataframe tbody tr th:only-of-type {\n",
              "        vertical-align: middle;\n",
              "    }\n",
              "\n",
              "    .dataframe tbody tr th {\n",
              "        vertical-align: top;\n",
              "    }\n",
              "\n",
              "    .dataframe thead th {\n",
              "        text-align: right;\n",
              "    }\n",
              "</style>\n",
              "<table border=\"1\" class=\"dataframe\">\n",
              "  <thead>\n",
              "    <tr style=\"text-align: right;\">\n",
              "      <th></th>\n",
              "      <th>hotel</th>\n",
              "      <th>is_canceled</th>\n",
              "      <th>lead_time</th>\n",
              "      <th>arrival_date_year</th>\n",
              "      <th>arrival_date_month</th>\n",
              "      <th>arrival_date_week_number</th>\n",
              "      <th>arrival_date_day_of_month</th>\n",
              "      <th>stays_in_weekend_nights</th>\n",
              "      <th>stays_in_week_nights</th>\n",
              "      <th>adults</th>\n",
              "      <th>children</th>\n",
              "      <th>babies</th>\n",
              "      <th>meal</th>\n",
              "      <th>country</th>\n",
              "      <th>market_segment</th>\n",
              "      <th>distribution_channel</th>\n",
              "      <th>is_repeated_guest</th>\n",
              "      <th>previous_cancellations</th>\n",
              "      <th>previous_bookings_not_canceled</th>\n",
              "      <th>reserved_room_type</th>\n",
              "      <th>assigned_room_type</th>\n",
              "      <th>booking_changes</th>\n",
              "      <th>deposit_type</th>\n",
              "      <th>days_in_waiting_list</th>\n",
              "      <th>customer_type</th>\n",
              "      <th>adr</th>\n",
              "      <th>required_car_parking_spaces</th>\n",
              "      <th>total_of_special_requests</th>\n",
              "      <th>reservation_status</th>\n",
              "      <th>reservation_status_date</th>\n",
              "    </tr>\n",
              "  </thead>\n",
              "  <tbody>\n",
              "    <tr>\n",
              "      <th>0</th>\n",
              "      <td>Resort Hotel</td>\n",
              "      <td>0</td>\n",
              "      <td>342</td>\n",
              "      <td>2015</td>\n",
              "      <td>July</td>\n",
              "      <td>27</td>\n",
              "      <td>1</td>\n",
              "      <td>0</td>\n",
              "      <td>0</td>\n",
              "      <td>2</td>\n",
              "      <td>0.0</td>\n",
              "      <td>0</td>\n",
              "      <td>BB</td>\n",
              "      <td>PRT</td>\n",
              "      <td>Direct</td>\n",
              "      <td>Direct</td>\n",
              "      <td>0</td>\n",
              "      <td>0</td>\n",
              "      <td>0</td>\n",
              "      <td>C</td>\n",
              "      <td>C</td>\n",
              "      <td>3</td>\n",
              "      <td>No Deposit</td>\n",
              "      <td>0</td>\n",
              "      <td>Transient</td>\n",
              "      <td>0.0</td>\n",
              "      <td>0</td>\n",
              "      <td>0</td>\n",
              "      <td>Check-Out</td>\n",
              "      <td>2015-07-01</td>\n",
              "    </tr>\n",
              "    <tr>\n",
              "      <th>1</th>\n",
              "      <td>Resort Hotel</td>\n",
              "      <td>0</td>\n",
              "      <td>737</td>\n",
              "      <td>2015</td>\n",
              "      <td>July</td>\n",
              "      <td>27</td>\n",
              "      <td>1</td>\n",
              "      <td>0</td>\n",
              "      <td>0</td>\n",
              "      <td>2</td>\n",
              "      <td>0.0</td>\n",
              "      <td>0</td>\n",
              "      <td>BB</td>\n",
              "      <td>PRT</td>\n",
              "      <td>Direct</td>\n",
              "      <td>Direct</td>\n",
              "      <td>0</td>\n",
              "      <td>0</td>\n",
              "      <td>0</td>\n",
              "      <td>C</td>\n",
              "      <td>C</td>\n",
              "      <td>4</td>\n",
              "      <td>No Deposit</td>\n",
              "      <td>0</td>\n",
              "      <td>Transient</td>\n",
              "      <td>0.0</td>\n",
              "      <td>0</td>\n",
              "      <td>0</td>\n",
              "      <td>Check-Out</td>\n",
              "      <td>2015-07-01</td>\n",
              "    </tr>\n",
              "    <tr>\n",
              "      <th>2</th>\n",
              "      <td>Resort Hotel</td>\n",
              "      <td>0</td>\n",
              "      <td>7</td>\n",
              "      <td>2015</td>\n",
              "      <td>July</td>\n",
              "      <td>27</td>\n",
              "      <td>1</td>\n",
              "      <td>0</td>\n",
              "      <td>1</td>\n",
              "      <td>1</td>\n",
              "      <td>0.0</td>\n",
              "      <td>0</td>\n",
              "      <td>BB</td>\n",
              "      <td>GBR</td>\n",
              "      <td>Direct</td>\n",
              "      <td>Direct</td>\n",
              "      <td>0</td>\n",
              "      <td>0</td>\n",
              "      <td>0</td>\n",
              "      <td>A</td>\n",
              "      <td>C</td>\n",
              "      <td>0</td>\n",
              "      <td>No Deposit</td>\n",
              "      <td>0</td>\n",
              "      <td>Transient</td>\n",
              "      <td>75.0</td>\n",
              "      <td>0</td>\n",
              "      <td>0</td>\n",
              "      <td>Check-Out</td>\n",
              "      <td>2015-07-02</td>\n",
              "    </tr>\n",
              "    <tr>\n",
              "      <th>3</th>\n",
              "      <td>Resort Hotel</td>\n",
              "      <td>0</td>\n",
              "      <td>13</td>\n",
              "      <td>2015</td>\n",
              "      <td>July</td>\n",
              "      <td>27</td>\n",
              "      <td>1</td>\n",
              "      <td>0</td>\n",
              "      <td>1</td>\n",
              "      <td>1</td>\n",
              "      <td>0.0</td>\n",
              "      <td>0</td>\n",
              "      <td>BB</td>\n",
              "      <td>GBR</td>\n",
              "      <td>Corporate</td>\n",
              "      <td>Corporate</td>\n",
              "      <td>0</td>\n",
              "      <td>0</td>\n",
              "      <td>0</td>\n",
              "      <td>A</td>\n",
              "      <td>A</td>\n",
              "      <td>0</td>\n",
              "      <td>No Deposit</td>\n",
              "      <td>0</td>\n",
              "      <td>Transient</td>\n",
              "      <td>75.0</td>\n",
              "      <td>0</td>\n",
              "      <td>0</td>\n",
              "      <td>Check-Out</td>\n",
              "      <td>2015-07-02</td>\n",
              "    </tr>\n",
              "    <tr>\n",
              "      <th>4</th>\n",
              "      <td>Resort Hotel</td>\n",
              "      <td>0</td>\n",
              "      <td>14</td>\n",
              "      <td>2015</td>\n",
              "      <td>July</td>\n",
              "      <td>27</td>\n",
              "      <td>1</td>\n",
              "      <td>0</td>\n",
              "      <td>2</td>\n",
              "      <td>2</td>\n",
              "      <td>0.0</td>\n",
              "      <td>0</td>\n",
              "      <td>BB</td>\n",
              "      <td>GBR</td>\n",
              "      <td>Online TA</td>\n",
              "      <td>TA/TO</td>\n",
              "      <td>0</td>\n",
              "      <td>0</td>\n",
              "      <td>0</td>\n",
              "      <td>A</td>\n",
              "      <td>A</td>\n",
              "      <td>0</td>\n",
              "      <td>No Deposit</td>\n",
              "      <td>0</td>\n",
              "      <td>Transient</td>\n",
              "      <td>98.0</td>\n",
              "      <td>0</td>\n",
              "      <td>1</td>\n",
              "      <td>Check-Out</td>\n",
              "      <td>2015-07-03</td>\n",
              "    </tr>\n",
              "  </tbody>\n",
              "</table>\n",
              "</div>"
            ],
            "text/plain": [
              "          hotel  is_canceled  ...  reservation_status  reservation_status_date\n",
              "0  Resort Hotel            0  ...           Check-Out               2015-07-01\n",
              "1  Resort Hotel            0  ...           Check-Out               2015-07-01\n",
              "2  Resort Hotel            0  ...           Check-Out               2015-07-02\n",
              "3  Resort Hotel            0  ...           Check-Out               2015-07-02\n",
              "4  Resort Hotel            0  ...           Check-Out               2015-07-03\n",
              "\n",
              "[5 rows x 30 columns]"
            ]
          },
          "metadata": {},
          "execution_count": 12
        }
      ]
    },
    {
      "cell_type": "markdown",
      "metadata": {
        "id": "O8oPQulDNNDj"
      },
      "source": [
        "####Let us move to further. We can see that arriavl date is not in the correct. So we can create one more column with correct date format"
      ]
    },
    {
      "cell_type": "code",
      "metadata": {
        "id": "VkAjwVQ3OJyY"
      },
      "source": [
        "df['arrival_date_day_of_month'] = df['arrival_date_day_of_month'].astype('string')\n",
        "df['arrival_date_month'] = df['arrival_date_month'].astype('string')\n",
        "df['arrival_date_year'] = df['arrival_date_year'].astype('string')"
      ],
      "execution_count": 13,
      "outputs": []
    },
    {
      "cell_type": "code",
      "metadata": {
        "id": "Wuz8IdcBOSDy"
      },
      "source": [
        "df['arrival_date'] = df['arrival_date_day_of_month'] + '-' + df['arrival_date_month'] + '-' + df['arrival_date_year']\n",
        "df['arrival_date'] = pd.to_datetime(df['arrival_date'])"
      ],
      "execution_count": 14,
      "outputs": []
    },
    {
      "cell_type": "code",
      "metadata": {
        "colab": {
          "base_uri": "https://localhost:8080/"
        },
        "id": "57m5OGvc_aXu",
        "outputId": "d1bf3e2a-05da-49e9-f9ae-179494eff59e"
      },
      "source": [
        "df['arrival_date'].head()"
      ],
      "execution_count": 15,
      "outputs": [
        {
          "output_type": "execute_result",
          "data": {
            "text/plain": [
              "0   2015-07-01\n",
              "1   2015-07-01\n",
              "2   2015-07-01\n",
              "3   2015-07-01\n",
              "4   2015-07-01\n",
              "Name: arrival_date, dtype: datetime64[ns]"
            ]
          },
          "metadata": {},
          "execution_count": 15
        }
      ]
    },
    {
      "cell_type": "markdown",
      "metadata": {
        "id": "BiIu7VgbOccI"
      },
      "source": [
        "####Also convert reservation_status_date into date format"
      ]
    },
    {
      "cell_type": "code",
      "metadata": {
        "id": "5qVmy7hoOSAR"
      },
      "source": [
        "df['reservation_status_date'] = pd.to_datetime(df['reservation_status_date'])"
      ],
      "execution_count": 16,
      "outputs": []
    },
    {
      "cell_type": "markdown",
      "metadata": {
        "id": "KYYv0HRkE3CH"
      },
      "source": [
        "####Now let us shift our focus to the very first column in our dataset i.e, is_canceled. As the name suggests this column says if the booking is cancelled or not."
      ]
    },
    {
      "cell_type": "code",
      "metadata": {
        "colab": {
          "base_uri": "https://localhost:8080/"
        },
        "id": "GeZV6dZWCkR9",
        "outputId": "670229a3-cdd6-41f4-d669-1351e7c5b2cd"
      },
      "source": [
        "#Lets us see what all values this column contains\n",
        "df['is_canceled'].unique()"
      ],
      "execution_count": 17,
      "outputs": [
        {
          "output_type": "execute_result",
          "data": {
            "text/plain": [
              "array([0, 1])"
            ]
          },
          "metadata": {},
          "execution_count": 17
        }
      ]
    },
    {
      "cell_type": "markdown",
      "metadata": {
        "id": "woT8MuiQFbKG"
      },
      "source": [
        "#####Let us consider value 0 as bookings that are not cancelled and 1 as cancelled bookings."
      ]
    },
    {
      "cell_type": "markdown",
      "metadata": {
        "id": "NeiQ4wWbFrA3"
      },
      "source": [
        "####Let us move to the next column (lead_time). Lead time is the time between booking(reservation) made and the actual arrival. \n",
        "Seems interesting isn't it. Let us know more about is column.\n",
        "Usually lead time is given in days"
      ]
    },
    {
      "cell_type": "code",
      "metadata": {
        "colab": {
          "base_uri": "https://localhost:8080/"
        },
        "id": "lVKQiJK1FOgR",
        "outputId": "7c5abcbb-eba1-4f6a-b015-d0a9b003475a"
      },
      "source": [
        "df['lead_time'].describe()"
      ],
      "execution_count": 18,
      "outputs": [
        {
          "output_type": "execute_result",
          "data": {
            "text/plain": [
              "count    119390.000000\n",
              "mean        104.011416\n",
              "std         106.863097\n",
              "min           0.000000\n",
              "25%          18.000000\n",
              "50%          69.000000\n",
              "75%         160.000000\n",
              "max         737.000000\n",
              "Name: lead_time, dtype: float64"
            ]
          },
          "metadata": {},
          "execution_count": 18
        }
      ]
    },
    {
      "cell_type": "markdown",
      "metadata": {
        "id": "v4dDlTLSISBm"
      },
      "source": [
        "#####as we can observe, lead time has the maximun value of 737 and mean of 69 days.\n",
        "We can say that lead time greater than 200 days is queit unusual.\n",
        "Nobody books a hotel before 200 days(almost 6 months) earlier"
      ]
    },
    {
      "cell_type": "code",
      "metadata": {
        "colab": {
          "base_uri": "https://localhost:8080/"
        },
        "id": "51twz5TdHdpy",
        "outputId": "921064b3-4f45-4b07-ed41-74915ee670ae"
      },
      "source": [
        "# find all the lead time above 200\n",
        "df.loc[df['lead_time']>200,'lead_time']"
      ],
      "execution_count": 19,
      "outputs": [
        {
          "output_type": "execute_result",
          "data": {
            "text/plain": [
              "0         342\n",
              "1         737\n",
              "81        368\n",
              "82        364\n",
              "85        324\n",
              "         ... \n",
              "119369    207\n",
              "119370    201\n",
              "119374    201\n",
              "119378    247\n",
              "119389    205\n",
              "Name: lead_time, Length: 20647, dtype: int64"
            ]
          },
          "metadata": {},
          "execution_count": 19
        }
      ]
    },
    {
      "cell_type": "markdown",
      "metadata": {
        "id": "A9p7ftnGMO9k"
      },
      "source": [
        "#####we gave 20647 records out of 119390 where lead time is greater than 200. So Replacing them with median of lead time less than 200."
      ]
    },
    {
      "cell_type": "code",
      "metadata": {
        "id": "nPia-ip_LiYe"
      },
      "source": [
        "#Find the index where lead_time >200 and replace the with lead_time<200\n",
        "df.loc[df['lead_time']>200,'lead_time']=df.loc[df['lead_time']<=200,'lead_time'].median()\n",
        "#After replacing the data tyoe is chaged to float. change it back to int again \n",
        "df['lead_time'] = df['lead_time'].astype('int')                                          "
      ],
      "execution_count": 20,
      "outputs": []
    },
    {
      "cell_type": "code",
      "metadata": {
        "colab": {
          "base_uri": "https://localhost:8080/"
        },
        "id": "gKKtH4R4_PwX",
        "outputId": "c70b4bac-fb6b-45b5-de52-437cbbfb3027"
      },
      "source": [
        "type(df['lead_time'][0])"
      ],
      "execution_count": 21,
      "outputs": [
        {
          "output_type": "execute_result",
          "data": {
            "text/plain": [
              "numpy.int64"
            ]
          },
          "metadata": {},
          "execution_count": 21
        }
      ]
    },
    {
      "cell_type": "markdown",
      "metadata": {
        "id": "ult6lU-eO4bc"
      },
      "source": [
        "####Moving forward we can create one more column to calculate total stay of guests by adding stay_in_weekend_nights and stay_in_week_nights"
      ]
    },
    {
      "cell_type": "code",
      "metadata": {
        "id": "jJwjaQ9qPmAU"
      },
      "source": [
        "df['stay_duration']=df['stays_in_week_nights']+df['stays_in_weekend_nights']"
      ],
      "execution_count": 22,
      "outputs": []
    },
    {
      "cell_type": "code",
      "metadata": {
        "colab": {
          "base_uri": "https://localhost:8080/"
        },
        "id": "q_IekXgBPq7c",
        "outputId": "7288cffb-8be3-4f02-b872-e9b6352eb91b"
      },
      "source": [
        "df['stay_duration'].value_counts()"
      ],
      "execution_count": 23,
      "outputs": [
        {
          "output_type": "execute_result",
          "data": {
            "text/plain": [
              "2     27643\n",
              "3     27076\n",
              "1     21020\n",
              "4     17383\n",
              "7      8655\n",
              "5      7784\n",
              "6      3857\n",
              "8      1161\n",
              "10     1139\n",
              "14      916\n",
              "9       841\n",
              "0       715\n",
              "11      396\n",
              "12      223\n",
              "13      142\n",
              "15       75\n",
              "21       71\n",
              "16       40\n",
              "25       37\n",
              "28       35\n",
              "18       35\n",
              "19       22\n",
              "17       20\n",
              "22       14\n",
              "29       14\n",
              "20       14\n",
              "30       13\n",
              "23        8\n",
              "26        6\n",
              "24        6\n",
              "27        5\n",
              "35        5\n",
              "42        4\n",
              "33        3\n",
              "56        2\n",
              "57        1\n",
              "34        1\n",
              "38        1\n",
              "43        1\n",
              "69        1\n",
              "45        1\n",
              "46        1\n",
              "48        1\n",
              "49        1\n",
              "60        1\n",
              "Name: stay_duration, dtype: int64"
            ]
          },
          "metadata": {},
          "execution_count": 23
        }
      ]
    },
    {
      "cell_type": "markdown",
      "metadata": {
        "id": "oHt0YdkjP_QL"
      },
      "source": [
        "#####Stay duration 0 means that the guests didn't stay in the night.\n",
        "This does not indicate absurd data"
      ]
    },
    {
      "cell_type": "markdown",
      "metadata": {
        "id": "u7koRmUPQ17w"
      },
      "source": [
        "####Lets move on to days_in_waiting_list column. As the name suggests this column has the number of days the booking was kept in waiting list before it was confirmed by the hotel."
      ]
    },
    {
      "cell_type": "code",
      "metadata": {
        "colab": {
          "base_uri": "https://localhost:8080/"
        },
        "id": "KbQssGK9P9Tn",
        "outputId": "6545ab0b-ab6f-4df5-ddba-f79ccb9e656c"
      },
      "source": [
        "df['days_in_waiting_list'].value_counts()"
      ],
      "execution_count": 24,
      "outputs": [
        {
          "output_type": "execute_result",
          "data": {
            "text/plain": [
              "0      115692\n",
              "39        227\n",
              "58        164\n",
              "44        141\n",
              "31        127\n",
              "        ...  \n",
              "175         1\n",
              "117         1\n",
              "89          1\n",
              "92          1\n",
              "183         1\n",
              "Name: days_in_waiting_list, Length: 128, dtype: int64"
            ]
          },
          "metadata": {},
          "execution_count": 24
        }
      ]
    },
    {
      "cell_type": "markdown",
      "metadata": {
        "id": "8n3nFWWdRQv8"
      },
      "source": [
        "#####Since we replace lead_time <200, now it makes no sense if the days in waiting list column has data greater than 200 \n",
        "(we dont have bookings made before 200 days of arrival, so waiting time cant be more than 200 days)"
      ]
    },
    {
      "cell_type": "code",
      "metadata": {
        "colab": {
          "base_uri": "https://localhost:8080/"
        },
        "id": "y6FlqNN2R8nf",
        "outputId": "1a4d62e8-bd27-4638-d44b-015e4d4e0e24"
      },
      "source": [
        "df.loc[df['days_in_waiting_list']<=200,'days_in_waiting_list'].median()"
      ],
      "execution_count": 25,
      "outputs": [
        {
          "output_type": "execute_result",
          "data": {
            "text/plain": [
              "0.0"
            ]
          },
          "metadata": {},
          "execution_count": 25
        }
      ]
    },
    {
      "cell_type": "code",
      "metadata": {
        "id": "PQ8MZ17eR8j4"
      },
      "source": [
        "#Find the index where days_in_waiting_list >200 and replace the with days_in_waiting_list<200 \n",
        "df.loc[df['days_in_waiting_list']>200,'days_in_waiting_list'] = df.loc[df['days_in_waiting_list']<=200,'days_in_waiting_list'].median()                  \n",
        "                                                                   "
      ],
      "execution_count": 26,
      "outputs": []
    },
    {
      "cell_type": "code",
      "metadata": {
        "id": "s4KA9I9D_uxt"
      },
      "source": [
        "#After replacing, the data type is chaged to float. change it back to int again\n",
        "df['days_in_waiting_list'] = df['days_in_waiting_list'].astype('int')"
      ],
      "execution_count": 27,
      "outputs": []
    },
    {
      "cell_type": "code",
      "metadata": {
        "colab": {
          "base_uri": "https://localhost:8080/"
        },
        "id": "P5Z026-Q_l1m",
        "outputId": "87ce7729-303f-4089-d125-75b84a261081"
      },
      "source": [
        "type(df['days_in_waiting_list'][0])"
      ],
      "execution_count": 28,
      "outputs": [
        {
          "output_type": "execute_result",
          "data": {
            "text/plain": [
              "numpy.longlong"
            ]
          },
          "metadata": {},
          "execution_count": 28
        }
      ]
    },
    {
      "cell_type": "markdown",
      "metadata": {
        "id": "GO7-y5ZzTPOM"
      },
      "source": [
        "####Lets understand about the adr column\n",
        "ADR means the average daily revenue (daily revenue the hotel manages to collect from all the rooms on an average)"
      ]
    },
    {
      "cell_type": "code",
      "metadata": {
        "colab": {
          "base_uri": "https://localhost:8080/",
          "height": 0
        },
        "id": "lMzJUZo5Src3",
        "outputId": "7d790828-f326-45d6-87a3-39d3dfb1a913"
      },
      "source": [
        "plt.figure(figsize=(10,5))\n",
        "plt.title(\"Frequency plot for ADR\",fontsize=20,pad=20)\n",
        "sns.boxplot(data = df['adr'],linewidth=3)\n",
        "plt.show()"
      ],
      "execution_count": 29,
      "outputs": [
        {
          "output_type": "display_data",
          "data": {
            "image/png": "[encoded data removed]",
            "text/plain": [
              "<Figure size 720x360 with 1 Axes>"
            ]
          },
          "metadata": {
            "needs_background": "light"
          }
        }
      ]
    },
    {
      "cell_type": "markdown",
      "metadata": {
        "id": "9S5arOZcT_Rn"
      },
      "source": [
        "#####we can see that there are outliers far away from the mean value (above 5000)"
      ]
    },
    {
      "cell_type": "markdown",
      "metadata": {
        "id": "gj570MEBUy5Y"
      },
      "source": [
        "#####There is one resort hotel that is having negative adr.\n",
        "Hotel that is running in loss"
      ]
    },
    {
      "cell_type": "code",
      "metadata": {
        "colab": {
          "base_uri": "https://localhost:8080/",
          "height": 0
        },
        "id": "Pd_J30z-SrZV",
        "outputId": "88b34156-1772-43dc-c3d1-eeb439aa70ab"
      },
      "source": [
        "df[df['adr']<0]"
      ],
      "execution_count": 30,
      "outputs": [
        {
          "output_type": "execute_result",
          "data": {
            "text/html": [
              "<div>\n",
              "<style scoped>\n",
              "    .dataframe tbody tr th:only-of-type {\n",
              "        vertical-align: middle;\n",
              "    }\n",
              "\n",
              "    .dataframe tbody tr th {\n",
              "        vertical-align: top;\n",
              "    }\n",
              "\n",
              "    .dataframe thead th {\n",
              "        text-align: right;\n",
              "    }\n",
              "</style>\n",
              "<table border=\"1\" class=\"dataframe\">\n",
              "  <thead>\n",
              "    <tr style=\"text-align: right;\">\n",
              "      <th></th>\n",
              "      <th>hotel</th>\n",
              "      <th>is_canceled</th>\n",
              "      <th>lead_time</th>\n",
              "      <th>arrival_date_year</th>\n",
              "      <th>arrival_date_month</th>\n",
              "      <th>arrival_date_week_number</th>\n",
              "      <th>arrival_date_day_of_month</th>\n",
              "      <th>stays_in_weekend_nights</th>\n",
              "      <th>stays_in_week_nights</th>\n",
              "      <th>adults</th>\n",
              "      <th>children</th>\n",
              "      <th>babies</th>\n",
              "      <th>meal</th>\n",
              "      <th>country</th>\n",
              "      <th>market_segment</th>\n",
              "      <th>distribution_channel</th>\n",
              "      <th>is_repeated_guest</th>\n",
              "      <th>previous_cancellations</th>\n",
              "      <th>previous_bookings_not_canceled</th>\n",
              "      <th>reserved_room_type</th>\n",
              "      <th>assigned_room_type</th>\n",
              "      <th>booking_changes</th>\n",
              "      <th>deposit_type</th>\n",
              "      <th>days_in_waiting_list</th>\n",
              "      <th>customer_type</th>\n",
              "      <th>adr</th>\n",
              "      <th>required_car_parking_spaces</th>\n",
              "      <th>total_of_special_requests</th>\n",
              "      <th>reservation_status</th>\n",
              "      <th>reservation_status_date</th>\n",
              "      <th>arrival_date</th>\n",
              "      <th>stay_duration</th>\n",
              "    </tr>\n",
              "  </thead>\n",
              "  <tbody>\n",
              "    <tr>\n",
              "      <th>14969</th>\n",
              "      <td>Resort Hotel</td>\n",
              "      <td>0</td>\n",
              "      <td>195</td>\n",
              "      <td>2017</td>\n",
              "      <td>March</td>\n",
              "      <td>10</td>\n",
              "      <td>5</td>\n",
              "      <td>4</td>\n",
              "      <td>6</td>\n",
              "      <td>2</td>\n",
              "      <td>0.0</td>\n",
              "      <td>0</td>\n",
              "      <td>BB</td>\n",
              "      <td>GBR</td>\n",
              "      <td>Groups</td>\n",
              "      <td>Direct</td>\n",
              "      <td>1</td>\n",
              "      <td>0</td>\n",
              "      <td>2</td>\n",
              "      <td>A</td>\n",
              "      <td>H</td>\n",
              "      <td>2</td>\n",
              "      <td>No Deposit</td>\n",
              "      <td>0</td>\n",
              "      <td>Transient-Party</td>\n",
              "      <td>-6.38</td>\n",
              "      <td>0</td>\n",
              "      <td>0</td>\n",
              "      <td>Check-Out</td>\n",
              "      <td>2017-03-15</td>\n",
              "      <td>2017-03-05</td>\n",
              "      <td>10</td>\n",
              "    </tr>\n",
              "  </tbody>\n",
              "</table>\n",
              "</div>"
            ],
            "text/plain": [
              "              hotel  is_canceled  ...  arrival_date stay_duration\n",
              "14969  Resort Hotel            0  ...    2017-03-05            10\n",
              "\n",
              "[1 rows x 32 columns]"
            ]
          },
          "metadata": {},
          "execution_count": 30
        }
      ]
    },
    {
      "cell_type": "markdown",
      "metadata": {
        "id": "MOzeDPDcVMCb"
      },
      "source": [
        "#####We can consider values above 1000 and below 0 as outliers from the above plot"
      ]
    },
    {
      "cell_type": "code",
      "metadata": {
        "colab": {
          "base_uri": "https://localhost:8080/"
        },
        "id": "F1QYwhYaU_Vs",
        "outputId": "a790ffc9-8255-4000-c496-a313e37be01c"
      },
      "source": [
        "# Finding all the outlier index\n",
        "outliers_index = list(df[(df['adr']>1000) | (df['adr']<0)].index)   \n",
        "outliers_index"
      ],
      "execution_count": 31,
      "outputs": [
        {
          "output_type": "execute_result",
          "data": {
            "text/plain": [
              "[14969, 48515]"
            ]
          },
          "metadata": {},
          "execution_count": 31
        }
      ]
    },
    {
      "cell_type": "code",
      "metadata": {
        "id": "ZsAeDdycU_SQ"
      },
      "source": [
        "df.drop(outliers_index,axis=0,inplace=True)"
      ],
      "execution_count": 32,
      "outputs": []
    },
    {
      "cell_type": "code",
      "metadata": {
        "colab": {
          "base_uri": "https://localhost:8080/"
        },
        "id": "rC-vRBOtAGQa",
        "outputId": "0d36634f-91de-4fe2-a359-c18eb8e7d07c"
      },
      "source": [
        "df.info()"
      ],
      "execution_count": 33,
      "outputs": [
        {
          "output_type": "stream",
          "name": "stdout",
          "text": [
            "<class 'pandas.core.frame.DataFrame'>\n",
            "Int64Index: 119388 entries, 0 to 119389\n",
            "Data columns (total 32 columns):\n",
            " #   Column                          Non-Null Count   Dtype         \n",
            "---  ------                          --------------   -----         \n",
            " 0   hotel                           119388 non-null  object        \n",
            " 1   is_canceled                     119388 non-null  int64         \n",
            " 2   lead_time                       119388 non-null  int64         \n",
            " 3   arrival_date_year               119388 non-null  string        \n",
            " 4   arrival_date_month              119388 non-null  string        \n",
            " 5   arrival_date_week_number        119388 non-null  int64         \n",
            " 6   arrival_date_day_of_month       119388 non-null  string        \n",
            " 7   stays_in_weekend_nights         119388 non-null  int64         \n",
            " 8   stays_in_week_nights            119388 non-null  int64         \n",
            " 9   adults                          119388 non-null  int64         \n",
            " 10  children                        119384 non-null  float64       \n",
            " 11  babies                          119388 non-null  int64         \n",
            " 12  meal                            119388 non-null  object        \n",
            " 13  country                         118900 non-null  object        \n",
            " 14  market_segment                  119388 non-null  object        \n",
            " 15  distribution_channel            119388 non-null  object        \n",
            " 16  is_repeated_guest               119388 non-null  int64         \n",
            " 17  previous_cancellations          119388 non-null  int64         \n",
            " 18  previous_bookings_not_canceled  119388 non-null  int64         \n",
            " 19  reserved_room_type              119388 non-null  object        \n",
            " 20  assigned_room_type              119388 non-null  object        \n",
            " 21  booking_changes                 119388 non-null  int64         \n",
            " 22  deposit_type                    119388 non-null  object        \n",
            " 23  days_in_waiting_list            119388 non-null  int64         \n",
            " 24  customer_type                   119388 non-null  object        \n",
            " 25  adr                             119388 non-null  float64       \n",
            " 26  required_car_parking_spaces     119388 non-null  int64         \n",
            " 27  total_of_special_requests       119388 non-null  int64         \n",
            " 28  reservation_status              119388 non-null  object        \n",
            " 29  reservation_status_date         119388 non-null  datetime64[ns]\n",
            " 30  arrival_date                    119388 non-null  datetime64[ns]\n",
            " 31  stay_duration                   119388 non-null  int64         \n",
            "dtypes: datetime64[ns](2), float64(2), int64(15), object(10), string(3)\n",
            "memory usage: 30.1+ MB\n"
          ]
        }
      ]
    },
    {
      "cell_type": "code",
      "metadata": {
        "colab": {
          "base_uri": "https://localhost:8080/",
          "height": 0
        },
        "id": "0W8elV-BVpoQ",
        "outputId": "dc155172-8bc5-4b10-a9d6-19d9e57b4c69"
      },
      "source": [
        "plt.figure(figsize=(10,5)) #Need to analyse further\n",
        "plt.title(\"Frequency plot for ADR\",fontsize=20,pad=20)\n",
        "sns.boxplot(data = df['adr'],linewidth=3)\n",
        "plt.show()"
      ],
      "execution_count": 34,
      "outputs": [
        {
          "output_type": "display_data",
          "data": {
            "image/png": "[encoded data removed]",
            "text/plain": [
              "<Figure size 720x360 with 1 Axes>"
            ]
          },
          "metadata": {
            "needs_background": "light"
          }
        }
      ]
    },
    {
      "cell_type": "markdown",
      "metadata": {
        "id": "-hQi918UWU8y"
      },
      "source": [
        "####Moving on to customer_type, market_segment, distribution_channel,is_repeated_guest"
      ]
    },
    {
      "cell_type": "code",
      "metadata": {
        "colab": {
          "base_uri": "https://localhost:8080/"
        },
        "id": "3CDfkI5hVpeN",
        "outputId": "f3df10f0-8567-43dc-fb90-3842c6b830f4"
      },
      "source": [
        "df['customer_type'].unique()"
      ],
      "execution_count": 35,
      "outputs": [
        {
          "output_type": "execute_result",
          "data": {
            "text/plain": [
              "array(['Transient', 'Contract', 'Transient-Party', 'Group'], dtype=object)"
            ]
          },
          "metadata": {},
          "execution_count": 35
        }
      ]
    },
    {
      "cell_type": "code",
      "metadata": {
        "colab": {
          "base_uri": "https://localhost:8080/"
        },
        "id": "_4wyNmQ6Wouy",
        "outputId": "bc13ec96-01bc-4b2e-b5d6-eab746c9b3da"
      },
      "source": [
        "df['market_segment'].unique()"
      ],
      "execution_count": 36,
      "outputs": [
        {
          "output_type": "execute_result",
          "data": {
            "text/plain": [
              "array(['Direct', 'Corporate', 'Online TA', 'Offline TA/TO',\n",
              "       'Complementary', 'Groups', 'Undefined', 'Aviation'], dtype=object)"
            ]
          },
          "metadata": {},
          "execution_count": 36
        }
      ]
    },
    {
      "cell_type": "code",
      "metadata": {
        "colab": {
          "base_uri": "https://localhost:8080/"
        },
        "id": "s_FtZlK0Worb",
        "outputId": "886bbec1-6c84-44ce-bd5f-663b337ec41a"
      },
      "source": [
        "df['distribution_channel'].unique()"
      ],
      "execution_count": 37,
      "outputs": [
        {
          "output_type": "execute_result",
          "data": {
            "text/plain": [
              "array(['Direct', 'Corporate', 'TA/TO', 'Undefined', 'GDS'], dtype=object)"
            ]
          },
          "metadata": {},
          "execution_count": 37
        }
      ]
    },
    {
      "cell_type": "code",
      "metadata": {
        "colab": {
          "base_uri": "https://localhost:8080/"
        },
        "id": "PgqWI6N-Wopd",
        "outputId": "bbbd35f0-124b-4d2f-e4a9-3d767614bac7"
      },
      "source": [
        "df['is_repeated_guest'].unique()"
      ],
      "execution_count": 38,
      "outputs": [
        {
          "output_type": "execute_result",
          "data": {
            "text/plain": [
              "array([0, 1])"
            ]
          },
          "metadata": {},
          "execution_count": 38
        }
      ]
    },
    {
      "cell_type": "markdown",
      "metadata": {
        "id": "NS6gwvNGW0AH"
      },
      "source": [
        "#####As there are no null values in these columns, there is no need to manipulate these columns"
      ]
    },
    {
      "cell_type": "markdown",
      "metadata": {
        "id": "41kcOCGFYNJq"
      },
      "source": [
        "####Lets us move to the column country now\n",
        "\n",
        "This indicates the location of the resort.\n",
        "\n",
        "Since there are less null values in this column,we can drop the null records"
      ]
    },
    {
      "cell_type": "code",
      "metadata": {
        "id": "hfmwLIy3I_T5"
      },
      "source": [
        "#= df.loc[df['booking_changes']<10,'booking_changes'].median()\n",
        "country_null_index = list(df.loc[df['country'].isnull()].index)  "
      ],
      "execution_count": 39,
      "outputs": []
    },
    {
      "cell_type": "code",
      "metadata": {
        "id": "x35d-L_SXBX6"
      },
      "source": [
        "## dropping countries with null values\n",
        "df.drop(country_null_index,axis=0,inplace=True)"
      ],
      "execution_count": 40,
      "outputs": []
    },
    {
      "cell_type": "code",
      "metadata": {
        "colab": {
          "base_uri": "https://localhost:8080/"
        },
        "id": "I5kgIwn79Wyx",
        "outputId": "53c37f31-c872-4656-a603-c01c8361a904"
      },
      "source": [
        "df.info()"
      ],
      "execution_count": 41,
      "outputs": [
        {
          "output_type": "stream",
          "name": "stdout",
          "text": [
            "<class 'pandas.core.frame.DataFrame'>\n",
            "Int64Index: 118900 entries, 0 to 119389\n",
            "Data columns (total 32 columns):\n",
            " #   Column                          Non-Null Count   Dtype         \n",
            "---  ------                          --------------   -----         \n",
            " 0   hotel                           118900 non-null  object        \n",
            " 1   is_canceled                     118900 non-null  int64         \n",
            " 2   lead_time                       118900 non-null  int64         \n",
            " 3   arrival_date_year               118900 non-null  string        \n",
            " 4   arrival_date_month              118900 non-null  string        \n",
            " 5   arrival_date_week_number        118900 non-null  int64         \n",
            " 6   arrival_date_day_of_month       118900 non-null  string        \n",
            " 7   stays_in_weekend_nights         118900 non-null  int64         \n",
            " 8   stays_in_week_nights            118900 non-null  int64         \n",
            " 9   adults                          118900 non-null  int64         \n",
            " 10  children                        118896 non-null  float64       \n",
            " 11  babies                          118900 non-null  int64         \n",
            " 12  meal                            118900 non-null  object        \n",
            " 13  country                         118900 non-null  object        \n",
            " 14  market_segment                  118900 non-null  object        \n",
            " 15  distribution_channel            118900 non-null  object        \n",
            " 16  is_repeated_guest               118900 non-null  int64         \n",
            " 17  previous_cancellations          118900 non-null  int64         \n",
            " 18  previous_bookings_not_canceled  118900 non-null  int64         \n",
            " 19  reserved_room_type              118900 non-null  object        \n",
            " 20  assigned_room_type              118900 non-null  object        \n",
            " 21  booking_changes                 118900 non-null  int64         \n",
            " 22  deposit_type                    118900 non-null  object        \n",
            " 23  days_in_waiting_list            118900 non-null  int64         \n",
            " 24  customer_type                   118900 non-null  object        \n",
            " 25  adr                             118900 non-null  float64       \n",
            " 26  required_car_parking_spaces     118900 non-null  int64         \n",
            " 27  total_of_special_requests       118900 non-null  int64         \n",
            " 28  reservation_status              118900 non-null  object        \n",
            " 29  reservation_status_date         118900 non-null  datetime64[ns]\n",
            " 30  arrival_date                    118900 non-null  datetime64[ns]\n",
            " 31  stay_duration                   118900 non-null  int64         \n",
            "dtypes: datetime64[ns](2), float64(2), int64(15), object(10), string(3)\n",
            "memory usage: 29.9+ MB\n"
          ]
        }
      ]
    },
    {
      "cell_type": "markdown",
      "metadata": {
        "id": "lD42qkPkYgU3"
      },
      "source": [
        "####Moving on to booking_changes column"
      ]
    },
    {
      "cell_type": "code",
      "metadata": {
        "id": "4LybcvXOYq8L"
      },
      "source": [
        "## replcaing booking changes more than 10 with median value\n",
        "df.loc[df['booking_changes']>=10,'booking_changes'] = df.loc[df['booking_changes']<10,'booking_changes'].median()    "
      ],
      "execution_count": 42,
      "outputs": []
    },
    {
      "cell_type": "code",
      "metadata": {
        "id": "G5IvP-1FYyDV"
      },
      "source": [
        "df['booking_changes'] = df['booking_changes'].astype('int')"
      ],
      "execution_count": 43,
      "outputs": []
    },
    {
      "cell_type": "code",
      "metadata": {
        "colab": {
          "base_uri": "https://localhost:8080/"
        },
        "id": "xtQxelVTYx_2",
        "outputId": "2dca4354-89e8-4e99-f35f-d6ff90ed8d05"
      },
      "source": [
        "df['booking_changes'].value_counts()"
      ],
      "execution_count": 44,
      "outputs": [
        {
          "output_type": "execute_result",
          "data": {
            "text/plain": [
              "0    100936\n",
              "1     12638\n",
              "2      3789\n",
              "3       925\n",
              "4       375\n",
              "5       118\n",
              "6        63\n",
              "7        31\n",
              "8        17\n",
              "9         8\n",
              "Name: booking_changes, dtype: int64"
            ]
          },
          "metadata": {},
          "execution_count": 44
        }
      ]
    },
    {
      "cell_type": "code",
      "metadata": {
        "id": "VCTLkKJXb_QJ"
      },
      "source": [
        ""
      ],
      "execution_count": 44,
      "outputs": []
    },
    {
      "cell_type": "markdown",
      "metadata": {
        "id": "_wbBJvUgY58T"
      },
      "source": [
        "####Cleaning the children, babies and adults column"
      ]
    },
    {
      "cell_type": "code",
      "metadata": {
        "id": "1kgXzoO5ZEB_"
      },
      "source": [
        "df.loc[df['children'].isnull(),'children']=0    ## assigned children null values to zero\n",
        "df['children']=df['children'].astype('int')      # changed datatype of children from float to int"
      ],
      "execution_count": 45,
      "outputs": []
    },
    {
      "cell_type": "code",
      "metadata": {
        "colab": {
          "base_uri": "https://localhost:8080/"
        },
        "id": "qd0kfw7qZYCG",
        "outputId": "89f9b333-1d1a-4ae9-ebff-42c59f672893"
      },
      "source": [
        "df['babies'].value_counts()"
      ],
      "execution_count": 46,
      "outputs": [
        {
          "output_type": "execute_result",
          "data": {
            "text/plain": [
              "0     117986\n",
              "1        898\n",
              "2         14\n",
              "10         1\n",
              "9          1\n",
              "Name: babies, dtype: int64"
            ]
          },
          "metadata": {},
          "execution_count": 46
        }
      ]
    },
    {
      "cell_type": "code",
      "metadata": {
        "colab": {
          "base_uri": "https://localhost:8080/"
        },
        "id": "9NDlHhhgZX85",
        "outputId": "7b9f3b46-5925-4cd3-e52a-f7bd5ecf184c"
      },
      "source": [
        "df['adults'].value_counts()"
      ],
      "execution_count": 47,
      "outputs": [
        {
          "output_type": "execute_result",
          "data": {
            "text/plain": [
              "2     89496\n",
              "1     22735\n",
              "3      6198\n",
              "0       393\n",
              "4        62\n",
              "26        5\n",
              "27        2\n",
              "20        2\n",
              "5         2\n",
              "55        1\n",
              "50        1\n",
              "40        1\n",
              "10        1\n",
              "6         1\n",
              "Name: adults, dtype: int64"
            ]
          },
          "metadata": {},
          "execution_count": 47
        }
      ]
    },
    {
      "cell_type": "code",
      "metadata": {
        "colab": {
          "base_uri": "https://localhost:8080/"
        },
        "id": "_WxoWZ_pZX4F",
        "outputId": "354227a9-ed6a-4b9a-c4e5-46cb54e115a2"
      },
      "source": [
        "df['children'].value_counts()"
      ],
      "execution_count": 48,
      "outputs": [
        {
          "output_type": "execute_result",
          "data": {
            "text/plain": [
              "0     110321\n",
              "1       4852\n",
              "2       3650\n",
              "3         76\n",
              "10         1\n",
              "Name: children, dtype: int64"
            ]
          },
          "metadata": {},
          "execution_count": 48
        }
      ]
    },
    {
      "cell_type": "code",
      "metadata": {
        "colab": {
          "base_uri": "https://localhost:8080/"
        },
        "id": "qNgY1CG0ZXyN",
        "outputId": "fc53aa25-5c93-4042-b917-f235d51850a4"
      },
      "source": [
        "df[(df['adults']==0)]['children'].value_counts()"
      ],
      "execution_count": 49,
      "outputs": [
        {
          "output_type": "execute_result",
          "data": {
            "text/plain": [
              "2    208\n",
              "0    170\n",
              "3     11\n",
              "1      4\n",
              "Name: children, dtype: int64"
            ]
          },
          "metadata": {},
          "execution_count": 49
        }
      ]
    },
    {
      "cell_type": "code",
      "metadata": {
        "colab": {
          "base_uri": "https://localhost:8080/",
          "height": 0
        },
        "id": "0pZPQAQsZXu6",
        "outputId": "75779a92-103d-4636-b057-d7ec9619bfa5"
      },
      "source": [
        "req_list = ['babies','children','adults']\n",
        "n=1\n",
        "plt.figure(figsize=(15,5))\n",
        "for i in req_list:\n",
        "  plt.subplot(1,3,n)\n",
        "  plt.title(\"Frequency plot for \"+i,fontsize=20,pad=20)\n",
        "  n = n+1\n",
        "  sns.boxplot(data = df[i])\n",
        "  plt.xlabel(i, fontsize=16)\n",
        "  plt.subplots_adjust(wspace=2)"
      ],
      "execution_count": 50,
      "outputs": [
        {
          "output_type": "display_data",
          "data": {
            "image/png": "[encoded data removed]",
            "text/plain": [
              "<Figure size 1080x360 with 3 Axes>"
            ]
          },
          "metadata": {
            "needs_background": "light"
          }
        }
      ]
    },
    {
      "cell_type": "markdown",
      "metadata": {
        "id": "MoA5h95NaJNr"
      },
      "source": [
        "#####Dropping the outliers"
      ]
    },
    {
      "cell_type": "code",
      "metadata": {
        "id": "Z_01QQiYaAgk"
      },
      "source": [
        "members_outlier_list = list(df[(df['babies']>5) | (df['children']>5) | (df['adults']>10)].index)  #"
      ],
      "execution_count": 51,
      "outputs": []
    },
    {
      "cell_type": "code",
      "metadata": {
        "colab": {
          "base_uri": "https://localhost:8080/"
        },
        "id": "IDvQ54ZQ99JQ",
        "outputId": "d016d2fd-6163-4355-fead-a1bc6e956ab1"
      },
      "source": [
        "members_outlier_list"
      ],
      "execution_count": 52,
      "outputs": [
        {
          "output_type": "execute_result",
          "data": {
            "text/plain": [
              "[328,\n",
              " 1539,\n",
              " 1587,\n",
              " 1643,\n",
              " 1752,\n",
              " 1884,\n",
              " 1917,\n",
              " 1962,\n",
              " 2003,\n",
              " 2164,\n",
              " 2173,\n",
              " 2228,\n",
              " 2418,\n",
              " 46619,\n",
              " 78656]"
            ]
          },
          "metadata": {},
          "execution_count": 52
        }
      ]
    },
    {
      "cell_type": "code",
      "metadata": {
        "id": "-PBMCGrKaAdE"
      },
      "source": [
        "df.drop(members_outlier_list,axis=0,inplace=True)"
      ],
      "execution_count": 53,
      "outputs": []
    },
    {
      "cell_type": "code",
      "metadata": {
        "colab": {
          "base_uri": "https://localhost:8080/"
        },
        "id": "Q1qo9EFQ9rCV",
        "outputId": "caaf693b-eed0-4fd0-e894-9175c3f8d465"
      },
      "source": [
        "df.info()"
      ],
      "execution_count": 54,
      "outputs": [
        {
          "output_type": "stream",
          "name": "stdout",
          "text": [
            "<class 'pandas.core.frame.DataFrame'>\n",
            "Int64Index: 118885 entries, 0 to 119389\n",
            "Data columns (total 32 columns):\n",
            " #   Column                          Non-Null Count   Dtype         \n",
            "---  ------                          --------------   -----         \n",
            " 0   hotel                           118885 non-null  object        \n",
            " 1   is_canceled                     118885 non-null  int64         \n",
            " 2   lead_time                       118885 non-null  int64         \n",
            " 3   arrival_date_year               118885 non-null  string        \n",
            " 4   arrival_date_month              118885 non-null  string        \n",
            " 5   arrival_date_week_number        118885 non-null  int64         \n",
            " 6   arrival_date_day_of_month       118885 non-null  string        \n",
            " 7   stays_in_weekend_nights         118885 non-null  int64         \n",
            " 8   stays_in_week_nights            118885 non-null  int64         \n",
            " 9   adults                          118885 non-null  int64         \n",
            " 10  children                        118885 non-null  int64         \n",
            " 11  babies                          118885 non-null  int64         \n",
            " 12  meal                            118885 non-null  object        \n",
            " 13  country                         118885 non-null  object        \n",
            " 14  market_segment                  118885 non-null  object        \n",
            " 15  distribution_channel            118885 non-null  object        \n",
            " 16  is_repeated_guest               118885 non-null  int64         \n",
            " 17  previous_cancellations          118885 non-null  int64         \n",
            " 18  previous_bookings_not_canceled  118885 non-null  int64         \n",
            " 19  reserved_room_type              118885 non-null  object        \n",
            " 20  assigned_room_type              118885 non-null  object        \n",
            " 21  booking_changes                 118885 non-null  int64         \n",
            " 22  deposit_type                    118885 non-null  object        \n",
            " 23  days_in_waiting_list            118885 non-null  int64         \n",
            " 24  customer_type                   118885 non-null  object        \n",
            " 25  adr                             118885 non-null  float64       \n",
            " 26  required_car_parking_spaces     118885 non-null  int64         \n",
            " 27  total_of_special_requests       118885 non-null  int64         \n",
            " 28  reservation_status              118885 non-null  object        \n",
            " 29  reservation_status_date         118885 non-null  datetime64[ns]\n",
            " 30  arrival_date                    118885 non-null  datetime64[ns]\n",
            " 31  stay_duration                   118885 non-null  int64         \n",
            "dtypes: datetime64[ns](2), float64(1), int64(16), object(10), string(3)\n",
            "memory usage: 29.9+ MB\n"
          ]
        }
      ]
    },
    {
      "cell_type": "code",
      "metadata": {
        "colab": {
          "base_uri": "https://localhost:8080/",
          "height": 0
        },
        "id": "g3pREGHUaAQ8",
        "outputId": "63245049-d1a8-4a5d-f446-bbca63723259"
      },
      "source": [
        "req_list = ['babies','children','adults']\n",
        "n=1\n",
        "plt.figure(figsize=(15,5))\n",
        "for i in req_list:\n",
        "  plt.subplot(1,3,n)\n",
        "  plt.title(\"Frequency plot for \"+i,fontsize=20,pad=20)\n",
        "  n = n+1\n",
        "  sns.boxplot(data = df[i])\n",
        "  plt.xlabel(i, fontsize=16)\n",
        "  plt.subplots_adjust(wspace=2)"
      ],
      "execution_count": 55,
      "outputs": [
        {
          "output_type": "display_data",
          "data": {
            "image/png": "[encoded data removed]",
            "text/plain": [
              "<Figure size 1080x360 with 3 Axes>"
            ]
          },
          "metadata": {
            "needs_background": "light"
          }
        }
      ]
    },
    {
      "cell_type": "code",
      "metadata": {
        "id": "gxW9p26UcEOA"
      },
      "source": [
        ""
      ],
      "execution_count": 55,
      "outputs": []
    },
    {
      "cell_type": "markdown",
      "metadata": {
        "id": "9k5YODpebEMv"
      },
      "source": [
        "####Creating one more total_members column"
      ]
    },
    {
      "cell_type": "code",
      "metadata": {
        "id": "LZNEHyfCaAKY"
      },
      "source": [
        "df['Total_members'] = df['adults'] + df['babies'] + df['children']"
      ],
      "execution_count": 56,
      "outputs": []
    },
    {
      "cell_type": "code",
      "metadata": {
        "colab": {
          "base_uri": "https://localhost:8080/"
        },
        "id": "aS58Q0hOa86C",
        "outputId": "c67a602c-a8ab-439f-8e74-6976b192ea5c"
      },
      "source": [
        "df['Total_members'].value_counts().sort_index()"
      ],
      "execution_count": 57,
      "outputs": [
        {
          "output_type": "execute_result",
          "data": {
            "text/plain": [
              "0       170\n",
              "1     22289\n",
              "2     81881\n",
              "3     10480\n",
              "4      3926\n",
              "5       137\n",
              "6         1\n",
              "10        1\n",
              "Name: Total_members, dtype: int64"
            ]
          },
          "metadata": {},
          "execution_count": 57
        }
      ]
    },
    {
      "cell_type": "code",
      "metadata": {
        "id": "8sRm-AJLa815"
      },
      "source": [
        "irrelavent_total_members = list(df[df['Total_members']==0].index)  #Find the index where the total members column is 0"
      ],
      "execution_count": 58,
      "outputs": []
    },
    {
      "cell_type": "code",
      "metadata": {
        "colab": {
          "base_uri": "https://localhost:8080/"
        },
        "id": "py8PzjdE-dZk",
        "outputId": "32c42b69-16f5-47f3-ae2d-d4af64a53d8c"
      },
      "source": [
        "len(irrelavent_total_members)"
      ],
      "execution_count": 59,
      "outputs": [
        {
          "output_type": "execute_result",
          "data": {
            "text/plain": [
              "170"
            ]
          },
          "metadata": {},
          "execution_count": 59
        }
      ]
    },
    {
      "cell_type": "code",
      "metadata": {
        "id": "E8v5BbSGbMJ9"
      },
      "source": [
        "df.drop(irrelavent_total_members,axis=0,inplace=True)"
      ],
      "execution_count": 60,
      "outputs": []
    },
    {
      "cell_type": "code",
      "metadata": {
        "colab": {
          "base_uri": "https://localhost:8080/"
        },
        "id": "_NvGmy7S-YZg",
        "outputId": "7c30d888-67e4-4c2e-d187-7d9ad82ba11d"
      },
      "source": [
        "df.info()"
      ],
      "execution_count": 61,
      "outputs": [
        {
          "output_type": "stream",
          "name": "stdout",
          "text": [
            "<class 'pandas.core.frame.DataFrame'>\n",
            "Int64Index: 118715 entries, 0 to 119389\n",
            "Data columns (total 33 columns):\n",
            " #   Column                          Non-Null Count   Dtype         \n",
            "---  ------                          --------------   -----         \n",
            " 0   hotel                           118715 non-null  object        \n",
            " 1   is_canceled                     118715 non-null  int64         \n",
            " 2   lead_time                       118715 non-null  int64         \n",
            " 3   arrival_date_year               118715 non-null  string        \n",
            " 4   arrival_date_month              118715 non-null  string        \n",
            " 5   arrival_date_week_number        118715 non-null  int64         \n",
            " 6   arrival_date_day_of_month       118715 non-null  string        \n",
            " 7   stays_in_weekend_nights         118715 non-null  int64         \n",
            " 8   stays_in_week_nights            118715 non-null  int64         \n",
            " 9   adults                          118715 non-null  int64         \n",
            " 10  children                        118715 non-null  int64         \n",
            " 11  babies                          118715 non-null  int64         \n",
            " 12  meal                            118715 non-null  object        \n",
            " 13  country                         118715 non-null  object        \n",
            " 14  market_segment                  118715 non-null  object        \n",
            " 15  distribution_channel            118715 non-null  object        \n",
            " 16  is_repeated_guest               118715 non-null  int64         \n",
            " 17  previous_cancellations          118715 non-null  int64         \n",
            " 18  previous_bookings_not_canceled  118715 non-null  int64         \n",
            " 19  reserved_room_type              118715 non-null  object        \n",
            " 20  assigned_room_type              118715 non-null  object        \n",
            " 21  booking_changes                 118715 non-null  int64         \n",
            " 22  deposit_type                    118715 non-null  object        \n",
            " 23  days_in_waiting_list            118715 non-null  int64         \n",
            " 24  customer_type                   118715 non-null  object        \n",
            " 25  adr                             118715 non-null  float64       \n",
            " 26  required_car_parking_spaces     118715 non-null  int64         \n",
            " 27  total_of_special_requests       118715 non-null  int64         \n",
            " 28  reservation_status              118715 non-null  object        \n",
            " 29  reservation_status_date         118715 non-null  datetime64[ns]\n",
            " 30  arrival_date                    118715 non-null  datetime64[ns]\n",
            " 31  stay_duration                   118715 non-null  int64         \n",
            " 32  Total_members                   118715 non-null  int64         \n",
            "dtypes: datetime64[ns](2), float64(1), int64(17), object(10), string(3)\n",
            "memory usage: 30.8+ MB\n"
          ]
        }
      ]
    },
    {
      "cell_type": "code",
      "metadata": {
        "id": "LXHLYEnjcJHO"
      },
      "source": [
        ""
      ],
      "execution_count": 61,
      "outputs": []
    },
    {
      "cell_type": "markdown",
      "metadata": {
        "id": "qkjoaibrA0ag"
      },
      "source": [
        "####Checking if all the values are dropped"
      ]
    },
    {
      "cell_type": "code",
      "metadata": {
        "colab": {
          "base_uri": "https://localhost:8080/",
          "height": 0
        },
        "id": "HSO8VnmMA5wl",
        "outputId": "df4865d5-83e0-42b7-caa0-0329ba11980b"
      },
      "source": [
        "df[df['adr']<0]"
      ],
      "execution_count": 62,
      "outputs": [
        {
          "output_type": "execute_result",
          "data": {
            "text/html": [
              "<div>\n",
              "<style scoped>\n",
              "    .dataframe tbody tr th:only-of-type {\n",
              "        vertical-align: middle;\n",
              "    }\n",
              "\n",
              "    .dataframe tbody tr th {\n",
              "        vertical-align: top;\n",
              "    }\n",
              "\n",
              "    .dataframe thead th {\n",
              "        text-align: right;\n",
              "    }\n",
              "</style>\n",
              "<table border=\"1\" class=\"dataframe\">\n",
              "  <thead>\n",
              "    <tr style=\"text-align: right;\">\n",
              "      <th></th>\n",
              "      <th>hotel</th>\n",
              "      <th>is_canceled</th>\n",
              "      <th>lead_time</th>\n",
              "      <th>arrival_date_year</th>\n",
              "      <th>arrival_date_month</th>\n",
              "      <th>arrival_date_week_number</th>\n",
              "      <th>arrival_date_day_of_month</th>\n",
              "      <th>stays_in_weekend_nights</th>\n",
              "      <th>stays_in_week_nights</th>\n",
              "      <th>adults</th>\n",
              "      <th>children</th>\n",
              "      <th>babies</th>\n",
              "      <th>meal</th>\n",
              "      <th>country</th>\n",
              "      <th>market_segment</th>\n",
              "      <th>distribution_channel</th>\n",
              "      <th>is_repeated_guest</th>\n",
              "      <th>previous_cancellations</th>\n",
              "      <th>previous_bookings_not_canceled</th>\n",
              "      <th>reserved_room_type</th>\n",
              "      <th>assigned_room_type</th>\n",
              "      <th>booking_changes</th>\n",
              "      <th>deposit_type</th>\n",
              "      <th>days_in_waiting_list</th>\n",
              "      <th>customer_type</th>\n",
              "      <th>adr</th>\n",
              "      <th>required_car_parking_spaces</th>\n",
              "      <th>total_of_special_requests</th>\n",
              "      <th>reservation_status</th>\n",
              "      <th>reservation_status_date</th>\n",
              "      <th>arrival_date</th>\n",
              "      <th>stay_duration</th>\n",
              "      <th>Total_members</th>\n",
              "    </tr>\n",
              "  </thead>\n",
              "  <tbody>\n",
              "  </tbody>\n",
              "</table>\n",
              "</div>"
            ],
            "text/plain": [
              "Empty DataFrame\n",
              "Columns: [hotel, is_canceled, lead_time, arrival_date_year, arrival_date_month, arrival_date_week_number, arrival_date_day_of_month, stays_in_weekend_nights, stays_in_week_nights, adults, children, babies, meal, country, market_segment, distribution_channel, is_repeated_guest, previous_cancellations, previous_bookings_not_canceled, reserved_room_type, assigned_room_type, booking_changes, deposit_type, days_in_waiting_list, customer_type, adr, required_car_parking_spaces, total_of_special_requests, reservation_status, reservation_status_date, arrival_date, stay_duration, Total_members]\n",
              "Index: []"
            ]
          },
          "metadata": {},
          "execution_count": 62
        }
      ]
    },
    {
      "cell_type": "code",
      "metadata": {
        "colab": {
          "base_uri": "https://localhost:8080/",
          "height": 0
        },
        "id": "-5xkjO5YA5tJ",
        "outputId": "5b13bdbd-9246-444d-b626-f28060965897"
      },
      "source": [
        "df[df['Total_members']==0]"
      ],
      "execution_count": 63,
      "outputs": [
        {
          "output_type": "execute_result",
          "data": {
            "text/html": [
              "<div>\n",
              "<style scoped>\n",
              "    .dataframe tbody tr th:only-of-type {\n",
              "        vertical-align: middle;\n",
              "    }\n",
              "\n",
              "    .dataframe tbody tr th {\n",
              "        vertical-align: top;\n",
              "    }\n",
              "\n",
              "    .dataframe thead th {\n",
              "        text-align: right;\n",
              "    }\n",
              "</style>\n",
              "<table border=\"1\" class=\"dataframe\">\n",
              "  <thead>\n",
              "    <tr style=\"text-align: right;\">\n",
              "      <th></th>\n",
              "      <th>hotel</th>\n",
              "      <th>is_canceled</th>\n",
              "      <th>lead_time</th>\n",
              "      <th>arrival_date_year</th>\n",
              "      <th>arrival_date_month</th>\n",
              "      <th>arrival_date_week_number</th>\n",
              "      <th>arrival_date_day_of_month</th>\n",
              "      <th>stays_in_weekend_nights</th>\n",
              "      <th>stays_in_week_nights</th>\n",
              "      <th>adults</th>\n",
              "      <th>children</th>\n",
              "      <th>babies</th>\n",
              "      <th>meal</th>\n",
              "      <th>country</th>\n",
              "      <th>market_segment</th>\n",
              "      <th>distribution_channel</th>\n",
              "      <th>is_repeated_guest</th>\n",
              "      <th>previous_cancellations</th>\n",
              "      <th>previous_bookings_not_canceled</th>\n",
              "      <th>reserved_room_type</th>\n",
              "      <th>assigned_room_type</th>\n",
              "      <th>booking_changes</th>\n",
              "      <th>deposit_type</th>\n",
              "      <th>days_in_waiting_list</th>\n",
              "      <th>customer_type</th>\n",
              "      <th>adr</th>\n",
              "      <th>required_car_parking_spaces</th>\n",
              "      <th>total_of_special_requests</th>\n",
              "      <th>reservation_status</th>\n",
              "      <th>reservation_status_date</th>\n",
              "      <th>arrival_date</th>\n",
              "      <th>stay_duration</th>\n",
              "      <th>Total_members</th>\n",
              "    </tr>\n",
              "  </thead>\n",
              "  <tbody>\n",
              "  </tbody>\n",
              "</table>\n",
              "</div>"
            ],
            "text/plain": [
              "Empty DataFrame\n",
              "Columns: [hotel, is_canceled, lead_time, arrival_date_year, arrival_date_month, arrival_date_week_number, arrival_date_day_of_month, stays_in_weekend_nights, stays_in_week_nights, adults, children, babies, meal, country, market_segment, distribution_channel, is_repeated_guest, previous_cancellations, previous_bookings_not_canceled, reserved_room_type, assigned_room_type, booking_changes, deposit_type, days_in_waiting_list, customer_type, adr, required_car_parking_spaces, total_of_special_requests, reservation_status, reservation_status_date, arrival_date, stay_duration, Total_members]\n",
              "Index: []"
            ]
          },
          "metadata": {},
          "execution_count": 63
        }
      ]
    },
    {
      "cell_type": "code",
      "metadata": {
        "id": "m5MGsBXgcQF_"
      },
      "source": [
        ""
      ],
      "execution_count": 63,
      "outputs": []
    },
    {
      "cell_type": "markdown",
      "metadata": {
        "id": "WdXFNDVNbk5S"
      },
      "source": [
        "####Conclusion after wrangling"
      ]
    },
    {
      "cell_type": "code",
      "metadata": {
        "id": "Y--dHIMA8zEq"
      },
      "source": [
        "df=df.reset_index().drop('index',axis=1)"
      ],
      "execution_count": 64,
      "outputs": []
    },
    {
      "cell_type": "code",
      "metadata": {
        "colab": {
          "base_uri": "https://localhost:8080/"
        },
        "id": "eyHpp1uVAyj_",
        "outputId": "17126dac-650c-4d71-e704-227fed586b4a"
      },
      "source": [
        "df.info()"
      ],
      "execution_count": 65,
      "outputs": [
        {
          "output_type": "stream",
          "name": "stdout",
          "text": [
            "<class 'pandas.core.frame.DataFrame'>\n",
            "RangeIndex: 118715 entries, 0 to 118714\n",
            "Data columns (total 33 columns):\n",
            " #   Column                          Non-Null Count   Dtype         \n",
            "---  ------                          --------------   -----         \n",
            " 0   hotel                           118715 non-null  object        \n",
            " 1   is_canceled                     118715 non-null  int64         \n",
            " 2   lead_time                       118715 non-null  int64         \n",
            " 3   arrival_date_year               118715 non-null  string        \n",
            " 4   arrival_date_month              118715 non-null  string        \n",
            " 5   arrival_date_week_number        118715 non-null  int64         \n",
            " 6   arrival_date_day_of_month       118715 non-null  string        \n",
            " 7   stays_in_weekend_nights         118715 non-null  int64         \n",
            " 8   stays_in_week_nights            118715 non-null  int64         \n",
            " 9   adults                          118715 non-null  int64         \n",
            " 10  children                        118715 non-null  int64         \n",
            " 11  babies                          118715 non-null  int64         \n",
            " 12  meal                            118715 non-null  object        \n",
            " 13  country                         118715 non-null  object        \n",
            " 14  market_segment                  118715 non-null  object        \n",
            " 15  distribution_channel            118715 non-null  object        \n",
            " 16  is_repeated_guest               118715 non-null  int64         \n",
            " 17  previous_cancellations          118715 non-null  int64         \n",
            " 18  previous_bookings_not_canceled  118715 non-null  int64         \n",
            " 19  reserved_room_type              118715 non-null  object        \n",
            " 20  assigned_room_type              118715 non-null  object        \n",
            " 21  booking_changes                 118715 non-null  int64         \n",
            " 22  deposit_type                    118715 non-null  object        \n",
            " 23  days_in_waiting_list            118715 non-null  int64         \n",
            " 24  customer_type                   118715 non-null  object        \n",
            " 25  adr                             118715 non-null  float64       \n",
            " 26  required_car_parking_spaces     118715 non-null  int64         \n",
            " 27  total_of_special_requests       118715 non-null  int64         \n",
            " 28  reservation_status              118715 non-null  object        \n",
            " 29  reservation_status_date         118715 non-null  datetime64[ns]\n",
            " 30  arrival_date                    118715 non-null  datetime64[ns]\n",
            " 31  stay_duration                   118715 non-null  int64         \n",
            " 32  Total_members                   118715 non-null  int64         \n",
            "dtypes: datetime64[ns](2), float64(1), int64(17), object(10), string(3)\n",
            "memory usage: 29.9+ MB\n"
          ]
        }
      ]
    },
    {
      "cell_type": "markdown",
      "metadata": {
        "id": "ETTS8z3MbjnE"
      },
      "source": [
        "#####After cleaning 118715 records remained for analysis, meaning 99.4 % data is cleaned and retained"
      ]
    },
    {
      "cell_type": "code",
      "metadata": {
        "id": "xJOXC4QZG5Iz"
      },
      "source": [
        ""
      ],
      "execution_count": 65,
      "outputs": []
    }
  ]
}